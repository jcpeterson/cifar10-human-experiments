{
 "cells": [
  {
   "cell_type": "code",
   "execution_count": 1,
   "metadata": {},
   "outputs": [],
   "source": [
    "%matplotlib inline\n",
    "import os, sys, gc, argparse\n",
    "import numpy as np\n",
    "import matplotlib.pyplot as plt\n",
    "from scipy.stats import entropy"
   ]
  },
  {
   "cell_type": "code",
   "execution_count": 2,
   "metadata": {},
   "outputs": [
    {
     "name": "stdout",
     "output_type": "stream",
     "text": [
      "(10000,)\n",
      "(10000, 10)\n",
      "['labels', 'logits', 'probs']\n",
      "[3 8 8 0 6] \n",
      " [[ 0  1  1 48  0  1  0  0  0  0]\n",
      " [ 0  0  1  0  0  0  0  0 50  0]\n",
      " [ 0  0  0  0  0  0  0  0 52  0]\n",
      " [38  0  8  0  1  0  1  0  2  1]\n",
      " [ 0  0  1  0  0  0 50  0  0  0]]\n",
      "0.973\n",
      "\n"
     ]
    }
   ],
   "source": [
    "dataDir = 'data'\n",
    "loadDir = '{0}/load'.format(dataDir)\n",
    "saveDir = '../figures'\n",
    "\n",
    "# In[3]:\n",
    "\n",
    "\n",
    "#parser = argparse.ArgumentParser()\n",
    "##parser.add_argument(\"-nc\", type=int)\n",
    "#args = parser.parse_args()\n",
    "#print(args)\n",
    "#nc = args.nc\n",
    "\n",
    "fullGuesses = np.load('{0}/test_set_master_guess_array.npy'.format(loadDir), allow_pickle = True)\n",
    "humans = np.load('{0}/human_bincounts.npy'.format(dataDir))\n",
    "shake = np.load('{0}/shake_shake_26_2x64d_SSI_cutout16_cifar_test_set.npz'.format(dataDir))\n",
    "shakeProbs = shake['probs']\n",
    "print(fullGuesses.shape)\n",
    "print(humans.shape)\n",
    "print(list(shake.keys()))\n",
    "print(shake['labels'][:5], '\\n', humans[:5])\n",
    "print(np.mean(np.argmax(shakeProbs, axis = 1) == shake['labels']))\n",
    "print()"
   ]
  },
  {
   "cell_type": "code",
   "execution_count": 3,
   "metadata": {},
   "outputs": [
    {
     "name": "stdout",
     "output_type": "stream",
     "text": [
      "fullProbModel shape: (10000, 10)\n"
     ]
    }
   ],
   "source": [
    "def guesses_to_probs(guesses, numCats):\n",
    "    guesses = np.int_(guesses)\n",
    "    hist = np.bincount(guesses, minlength = numCats)\n",
    "    hist += 1 # plus one smoothing: can change\n",
    "    return hist / np.sum(hist)\n",
    "\n",
    "def flatten_guesses(fullGuesses):\n",
    "    \"\"\"Expects fullGuesses to be a numpy array, with each row corresponding to the guesses for each image, in order\"\"\"\n",
    "    flattenedGuesses = []\n",
    "    flattenedPicNums = []\n",
    "    for pic, guesses in enumerate(fullGuesses):\n",
    "        numGuessesPic = len(guesses)\n",
    "        flattenedGuesses.append(guesses)\n",
    "        flattenedPicNums.append(np.repeat(pic, numGuessesPic))\n",
    "    flattenedGuesses = np.hstack(flattenedGuesses)\n",
    "    flattenedPicNums = np.hstack(flattenedPicNums)\n",
    "\n",
    "    return flattenedGuesses, flattenedPicNums\n",
    "\n",
    "def create_prob_dist(guessArray, numCats = 10):\n",
    "    \"\"\"Expects guess array to have numImages rows (either by 1 (an array), or a number of guesses);\n",
    "    NB plus one smoothing applied to prevent division by 0\"\"\"\n",
    "    probDist = np.empty((len(guessArray), numCats))\n",
    "    for pic, guesses in enumerate(guessArray):\n",
    "        probDist[pic] = guesses_to_probs(guesses, numCats)\n",
    "        assert np.around(np.sum(probDist[pic]), 3) == 1, 'sum of prob dist not 1: {0}'.format(np.sum(probDist[pic]))\n",
    "    return probDist\n",
    "\n",
    "def calculate_entropy_distribution(current, prior_mode):\n",
    "    entropies = []\n",
    "    for guesses in current:\n",
    "        probs = guesses_to_probs(guesses, 10)\n",
    "        ent = entropy(probs)\n",
    "        entropies.append(ent)\n",
    "    if 'exp' in prior_mode:\n",
    "        temp = np.int(np.around(np.float(prior_mode.split('_')[-1]), 1))\n",
    "        return np.exp(temp * np.array(entropies))\n",
    "    else:\n",
    "        return np.array(entropies)\n",
    "\n",
    "def add_samples_from_NN(current, NNProbs, numSamples = 10):\n",
    "    \"\"\"Take NN probs as parameters from categorical and sample N times\"\"\"\n",
    "    imNums = len(current)\n",
    "    for im in np.arange(imNums):\n",
    "        candidateAdd = current[im].copy()\n",
    "        \n",
    "       \n",
    "        NNCand = NNProbs[im].copy().astype('float64')\n",
    "        #print('before: {0}'.format(np.sum(NNCand)))\n",
    "        \n",
    "        NNCand = NNCand / np.sum(NNCand)\n",
    "        #print(np.sum(NNProbsC[:-1]))\n",
    "        CNNSample = np.argmax(np.random.multinomial(1, NNCand, size=numSamples), axis = 1)\n",
    "        \n",
    "        candidateAdd2 = np.append(candidateAdd, CNNSample)\n",
    "\n",
    "        \n",
    "        current[im] = candidateAdd2\n",
    "        #print('after: {0}'.format(np.sum(NNProbsC)))\n",
    "    return current\n",
    "    \n",
    "flattenedGuesses, flattenedPicNums = flatten_guesses(fullGuesses)\n",
    "fullProbModel = create_prob_dist(fullGuesses)\n",
    "print('fullProbModel shape: {0}'.format(fullProbModel.shape))"
   ]
  },
  {
   "cell_type": "code",
   "execution_count": 4,
   "metadata": {},
   "outputs": [
    {
     "name": "stdout",
     "output_type": "stream",
     "text": [
      "52\n",
      "[0 0 0 0 0 0 0 0 0 0 0 0 0 0 0 0 0 0 0 0 0 0 0 0 0 0 0 0 0 0 0 0 0 0 0 0 0\n",
      " 0 0 0 0 0 0 0 0 0 0 0 0 0 0] \n",
      " [3 3 1 5 3 3 3 3 3 3 3 3 3 3 3 3 3 3 3 3 3 3 3 2 3 3 3 3 3 3 3 3 3 3 3 3 3\n",
      " 3 3 3 3 3 3 3 3 3 3 3 3 3 3] \n",
      " [3 3 1 5 3 3 3 3 3 3 3 3 3 3 3 3 3 3 3 3 3 3 3 2 3 3 3 3 3 3 3 3 3 3 3 3 3\n",
      " 3 3 3 3 3 3 3 3 3 3 3 3 3 3] \n",
      " [7 7 7 7 7 7 7 7 7 7 7 7 7 7 7 7 7 7 7 7 4 7 7 7 7 7 7 7 7 7 7 7 7 7 7 7 7\n",
      " 7 7 7 7 7 7 7 7 7 7 7 7 7 7 7] \n",
      " [7 7 7 7 7 7 7 7 7 7 7 7 7 7 7 7 7 7 7 7 4 7 7 7 7 7 7 7 7 7 7 7 7 7 7 7 7\n",
      " 7 7 7 7 7 7 7 7 7 7 7 7 7 7 7]\n",
      "(10000, 10) \n",
      " [0.016 0.033 0.033 0.803 0.016 0.033 0.016 0.016 0.016 0.016] \n",
      " [0.016 0.016 0.016 0.016 0.032 0.016 0.016 0.839 0.016 0.016]\n"
     ]
    }
   ],
   "source": [
    "print(len(fullGuesses[-1]))\n",
    "print(flattenedPicNums[:51], '\\n', flattenedGuesses[:51], '\\n', fullGuesses[0], '\\n',\n",
    "     flattenedGuesses[-52:], '\\n', fullGuesses[-1])\n",
    "\n",
    "print(fullProbModel.shape, '\\n', np.around(fullProbModel[0], 3), '\\n', np.around(fullProbModel[-1], 3))"
   ]
  },
  {
   "cell_type": "code",
   "execution_count": 5,
   "metadata": {},
   "outputs": [],
   "source": [
    "def print_shape_fn(term, value, activated = False):\n",
    "    if activated:\n",
    "        print('{0} has shape: {1}'.format(term, value.shape))\n",
    "    \n",
    "def detect_empty_array_fn(remaining, imNums):\n",
    "    return np.asarray([True if (remaining[x].size != 0) else False for x in imNums])\n",
    "\n",
    "# N.B. done in python for speed.\n",
    "def sample_from_data(current, remaining, prior = None, numSamples = 10):\n",
    "    \"\"\"takes 2 lists of arrays: those forming current model, and those remaining.\n",
    "    Updates current with N samples from remaining, and returns prob model and updated lists.\"\"\"\n",
    "    imNums = np.arange(len(current))\n",
    "    valid = detect_empty_array_fn(remaining, imNums)\n",
    "    imNums = imNums[valid]\n",
    "    if prior is not None:\n",
    "        #print('prior shape: {0}'.format(prior.shape))\n",
    "        prior = prior[valid]\n",
    "        # must renormalize prior\n",
    "        oldPriorSum = np.sum(prior)\n",
    "        prior = prior / oldPriorSum\n",
    "        newPriorSum = np.sum(prior)\n",
    "        assert np.around(newPriorSum, 3) == 1, \"prior sum not 1: {0}\".format(np.around(newPriorSum), 1)\n",
    "\n",
    "    sampleNums = np.random.choice(imNums, size=numSamples, replace=True, p=prior)\n",
    "    carried = 0\n",
    "    \n",
    "    for i in sampleNums:\n",
    "        candidateAdd = current[i].copy()\n",
    "        candidateSubtract = remaining[i].copy()\n",
    "        try:\n",
    "            choice = np.random.choice(candidateSubtract)\n",
    "            index = np.argwhere(candidateSubtract==choice)[0][0]\n",
    "            candidateAdd2 = np.append(candidateAdd, choice)\n",
    "\n",
    "            candidateSubtract2 = np.delete(candidateSubtract, index)\n",
    "            current[i] = candidateAdd2\n",
    "            remaining[i] = candidateSubtract2\n",
    "            \n",
    "        except Exception as e:\n",
    "            #print(e)\n",
    "            carried += 1\n",
    "            \n",
    "#    if carried > 0:\n",
    "#        print('n samples carried: {0}'.format(carried))\n",
    "        \n",
    "        \n",
    "    return current, remaining, carried\n",
    "    \n",
    "def presample_exactly(current, remainder):\n",
    "    imNums = len(current)\n",
    "    \n",
    "    for im in np.arange(imNums):\n",
    "        candidateAdd = current[im].copy()\n",
    "        candidateSubtract = remainder[im].copy()\n",
    "        try:\n",
    "            choice = np.random.choice(candidateSubtract)\n",
    "        except:\n",
    "            continue\n",
    "        index = np.argwhere(candidateSubtract==choice)[0][0]\n",
    "        candidateAdd2 = np.append(candidateAdd, choice)\n",
    "\n",
    "        candidateSubtract2 = np.delete(candidateSubtract, index)\n",
    "        current[im] = candidateAdd2\n",
    "        remainder[im] = candidateSubtract2\n",
    "    return current, remainder\n",
    "#current = [[] for x in np.arange(5)]\n",
    "#print(len(current), current[:5], fullGuesses[:5])\n",
    "\n",
    "#updatedModel, updatedRemaining = sample_from_data(current, fullGuesses[:5], None, 3)\n",
    "#print(len(updatedModel), updatedModel[:10], updatedRemaining[:10])\n",
    "#remaining = np.asarray([np.array([0]), np.array([]), np.array([1, 2])])\n",
    "#print(detect_empty_array_fn(remaining))\n"
   ]
  },
  {
   "cell_type": "code",
   "execution_count": 6,
   "metadata": {},
   "outputs": [
    {
     "name": "stdout",
     "output_type": "stream",
     "text": [
      "Floor mean LL: -2.3025850929940463, Ceiling mean LL: -0.2997856080725539\n"
     ]
    }
   ],
   "source": [
    "class sample_model:\n",
    "    \"\"\"If this is too slow, try to exponentiate and subtract logarithms\"\"\"\n",
    "    def __init__(self, probDist, testPicNums, testLabels):\n",
    "        \"\"\"probDist should be images by categories\"\"\"\n",
    "        self.probDist = probDist\n",
    "        self.numImages = self.probDist.shape[0]\n",
    "        self.numCats = self.probDist.shape[1]\n",
    "                        \n",
    "        self.testPicNums = testPicNums\n",
    "        self.numTestingSamples = self.testPicNums.shape[0]\n",
    "        self.testLabels = testLabels\n",
    "\n",
    "        self.extendedProbs = self.probDist[testPicNums]\n",
    "        self.likelihoodMatrix = self.create_likelihood_matrix()\n",
    "        \n",
    "        self.LL = self.score_model()\n",
    "    def create_likelihood_matrix(self):\n",
    "        \"\"\"Takes picNums by categories probability distribution and gives likelihood of guesses\"\"\"\n",
    "        candidateIdx = np.arange(len(self.testLabels)), np.squeeze(self.testLabels)\n",
    "        #print(candidateIdx)\n",
    "        candidates = self.extendedProbs[candidateIdx]\n",
    "        likelihoodMatrix = self.extendedProbs / candidates[:, np.newaxis]\n",
    "        #print('exponent matrix has shape: {0}'.format(exponentMatrix.shape))\n",
    "        return likelihoodMatrix\n",
    "    \n",
    "    def score_model(self):\n",
    "        \"\"\"Takes sum over categories, which should be axis 1. Then takes mean over \n",
    "        samples, which should be picNums in length, axis = 0\"\"\"\n",
    "        LL = - np.mean(np.log(np.sum(self.likelihoodMatrix, axis = 1)))\n",
    "        #print('Final LL: {0}'.format(LL))\n",
    "        return LL\n",
    "    \n",
    "#    def generate_predictions(self, points):\n",
    "#        topPredictions = np.argmin(self.find_test_distances(self.trained, points), axis = 0)\n",
    "#        #print('topPredictions has shape: {0}. Example labels: {1}'.format(topPredictions.shape, topPredictions[:5]))\n",
    "#        return topPredictions\n",
    "emptyModel = [[] for x in np.arange(fullProbModel.shape[0])]\n",
    "ceilingModel = sample_model(fullProbModel, flattenedPicNums, flattenedGuesses)\n",
    "uniformProbs = np.ones((fullProbModel.shape))/ 10\n",
    "floorModel = sample_model(uniformProbs, flattenedPicNums, flattenedGuesses)\n",
    "print('Floor mean LL: {0}, Ceiling mean LL: {1}'.format(floorModel.LL, ceilingModel.LL))"
   ]
  },
  {
   "cell_type": "code",
   "execution_count": 7,
   "metadata": {},
   "outputs": [],
   "source": [
    "def full_run(startGuesses, fullGuesses, flattenedPicNums, flattenedGuesses, NNDict, \n",
    "             prior_mode = 'none', datasetIters = 50, samplesPerIter = 10000, numPreSamples = 2):\n",
    "    scores = []\n",
    "    current = startGuesses.copy()\n",
    "    remainder = fullGuesses.copy()\n",
    "    probModel = None\n",
    "    if 'none' in prior_mode:\n",
    "        prior = None\n",
    "    carried = 0\n",
    "    \n",
    "    if 'CNN' in prior_mode:\n",
    "        current = add_samples_from_NN(current, NNDict['probs'], NNDict['numSamples'])\n",
    "    print(current[:5])\n",
    "    \n",
    "    if 'presample' in prior_mode:\n",
    "        for n in np.arange(numPreSamples):\n",
    "            current, remainder = presample_exactly(current, remainder)\n",
    "            probDist = create_prob_dist(current, 10)\n",
    "            probModel = sample_model(probDist, flattenedPicNums, flattenedGuesses)\n",
    "            scores.append(probModel.LL)\n",
    "      \n",
    "    for it in np.arange(datasetIters - numPreSamples):\n",
    "        #print('\\n dataset iteration {0}'.format(it))\n",
    "        if 'adaptive' in prior_mode:\n",
    "            #print('calculating prior!')\n",
    "            prior = calculate_entropy_distribution(current, prior_mode)\n",
    "            topIm = np.argmax(prior)\n",
    "            #fig, ax = plt.subplots(nrows = 2, ncols = 1)\n",
    "            #ax[0].set_title('for im: {0}'.format(topIm))\n",
    "            #ax[0].bar(np.arange(10), guesses_to_probs(current[topIm], 10))\n",
    "            #ax[1].bar(np.arange(10), guesses_to_probs(fullGuesses[topIm], 10))\n",
    "            #plt.show()\n",
    "            #plt.close()\n",
    "        current, remainder, carried = sample_from_data(current, remainder, prior = prior, numSamples = samplesPerIter)\n",
    "\n",
    "        while carried != 0:\n",
    "            #print('carries detected!: {0}'.format(carried))\n",
    "            current, remainder, carried =  sample_from_data(current, remainder, prior = prior, numSamples = carried)\n",
    "\n",
    "        probDist = create_prob_dist(current, 10)\n",
    "        probModel = sample_model(probDist, flattenedPicNums, flattenedGuesses)\n",
    "        scores.append(probModel.LL)\n",
    "    \n",
    "    return current, remainder, scores"
   ]
  },
  {
   "cell_type": "code",
   "execution_count": 8,
   "metadata": {},
   "outputs": [
    {
     "name": "stdout",
     "output_type": "stream",
     "text": [
      "0.1447\n",
      "0\n",
      "[[4.3877479e-10 4.2822510e-09 5.8334862e-08 9.9999845e-01 6.1945497e-11\n",
      "  1.3867444e-06 3.0767203e-10 2.6320685e-11 2.2988432e-10 1.0318994e-11]\n",
      " [8.2601247e-08 4.4165095e-06 1.0171681e-11 1.0105802e-10 5.3056518e-12\n",
      "  6.0248813e-11 3.9452081e-13 2.9449249e-11 9.9999547e-01 1.4125276e-10]\n",
      " [1.1942343e-06 1.0436801e-02 1.3872773e-09 8.4147809e-09 2.6138871e-09\n",
      "  1.8238930e-09 1.2780842e-11 5.7167540e-08 9.8956150e-01 4.2204533e-07]\n",
      " [9.9999106e-01 2.1549578e-08 7.0710048e-06 1.4160242e-06 6.2045674e-11\n",
      "  1.4826472e-09 3.8210140e-11 3.3304492e-10 1.0502605e-08 5.2070914e-07]\n",
      " [2.4623293e-11 3.7709205e-09 4.1862453e-08 1.8183796e-08 2.7726607e-08\n",
      "  2.2735555e-10 9.9999988e-01 3.5233452e-11 1.7328451e-11 1.4439200e-10]]\n"
     ]
    },
    {
     "data": {
      "image/png": "[encoded data removed]",
      "text/plain": [
       "<Figure size 432x288 with 1 Axes>"
      ]
     },
     "metadata": {
      "needs_background": "light"
     },
     "output_type": "display_data"
    }
   ],
   "source": [
    "print(np.mean(np.sum(shakeProbs, axis = 1) > 1.0))\n",
    "plt.hist(shakeProbs.ravel())\n",
    "print(np.sum(shakeProbs < 0))\n",
    "print(shakeProbs[:5])"
   ]
  },
  {
   "cell_type": "code",
   "execution_count": null,
   "metadata": {},
   "outputs": [],
   "source": [
    "# uniform sampler\n",
    "prior_modes = ['presample_CNN_adaptive_exp_{0}'.format(np.int(x)) for x in np.logspace(0, 7, num=7, endpoint=True, base=2.0)] \n",
    "NNDict = {'probs': shakeProbs, 'numSamples': 50}\n",
    "for prior_mode in prior_modes:\n",
    "    print()\n",
    "    print(prior_mode)\n",
    "    fig = plt.figure()\n",
    "    for numPreSamples in np.arange(0, 12, 4):\n",
    "        print()\n",
    "        print(numPreSamples)\n",
    "        postCurrent, postRemainder, scores = full_run(emptyModel.copy(), fullGuesses.copy(), \n",
    "                                                            flattenedPicNums, flattenedGuesses, \n",
    "                                                      NNDict,\n",
    "                                                      prior_mode = prior_mode, numPreSamples = numPreSamples)\n",
    "        scores.insert(0, floorModel.LL)\n",
    "\n",
    "        postC = len(flatten_guesses(postCurrent)[0])\n",
    "        postR  = len(flatten_guesses(postRemainder)[0])\n",
    "\n",
    "        print(postR, postC, postR + postC, len(flattenedGuesses))\n",
    "\n",
    "\n",
    "        normalizedScores = (scores - floorModel.LL) / (ceilingModel.LL - floorModel.LL)\n",
    "        plt.plot(normalizedScores, label = str(numPreSamples))\n",
    "\n",
    "    plt.ylim([0, 1])\n",
    "    plt.title(prior_mode)\n",
    "    plt.ylabel('Proportion of full model LL')\n",
    "    plt.xlabel('Number of samples (x 10,000)')\n",
    "    plt.legend()\n",
    "    plt.savefig('{0}/sampling_plot_{1}_{2}.png'.format(saveDir, prior_mode, NNDict['numSamples']))\n",
    "    plt.show()\n",
    "#plt.xticks(np.arange(len(scores)))"
   ]
  },
  {
   "cell_type": "code",
   "execution_count": 18,
   "metadata": {},
   "outputs": [
    {
     "name": "stdout",
     "output_type": "stream",
     "text": [
      "[array([3., 3., 3., 3., 3., 3., 3., 3., 3., 3., 3., 3., 3., 3., 3., 3., 3.,\n",
      "       3., 3., 3.]), array([8., 8., 8., 8., 8., 8., 8., 8., 8., 8., 8., 8., 8., 8., 8., 8., 8.,\n",
      "       8., 8., 8.]), array([8., 8., 8., 8., 8., 8., 8., 8., 8., 8., 8., 8., 8., 8., 8., 8., 8.,\n",
      "       8., 8., 8.]), array([0., 0., 0., 0., 0., 0., 0., 0., 0., 0., 0., 0., 0., 0., 0., 0., 0.,\n",
      "       0., 0., 0.]), array([6., 6., 6., 6., 6., 6., 6., 6., 6., 6., 6., 6., 6., 6., 6., 6., 6.,\n",
      "       6., 6., 6.])]\n",
      "411000 300000 711000 511000\n"
     ]
    },
    {
     "data": {
      "image/png": "[encoded data removed]",
      "text/plain": [
       "<Figure size 432x288 with 1 Axes>"
      ]
     },
     "metadata": {
      "needs_background": "light"
     },
     "output_type": "display_data"
    }
   ],
   "source": [
    "prior_mode = 'presample_CNN_adaptive_exp_{0}'.format(8)\n",
    "NNDict = {'probs': shakeProbs, 'numSamples': 20}\n",
    "numPreSamples = 4\n",
    "postCurrent, postRemainder, scores = full_run(emptyModel.copy(), fullGuesses.copy(), \n",
    "                                                            flattenedPicNums, flattenedGuesses, \n",
    "                                                      NNDict,\n",
    "                                                      prior_mode = prior_mode, numPreSamples = numPreSamples,\n",
    "                                             datasetIters = 10)\n",
    "scores.insert(0, floorModel.LL)\n",
    "\n",
    "postC = len(flatten_guesses(postCurrent)[0])\n",
    "postR  = len(flatten_guesses(postRemainder)[0])\n",
    "\n",
    "print(postR, postC, postR + postC, len(flattenedGuesses))\n",
    "\n",
    "\n",
    "normalizedScores = (scores - floorModel.LL) / (ceilingModel.LL - floorModel.LL)\n",
    "plt.plot(normalizedScores, label = str(numPreSamples))\n",
    "\n",
    "plt.ylim([0, 1])\n",
    "plt.title(prior_mode)\n",
    "plt.ylabel('Proportion of full model LL')\n",
    "plt.xlabel('Number of samples (x 10,000)')\n",
    "plt.legend()\n",
    "plt.savefig('{0}/sampling_plot_{1}_NCNN_{2}.png'.format(saveDir, prior_mode, NNDict['numSamples']))\n",
    "plt.savefig('{0}/sampling_plot_{1}_NCNN_{2}.pdf'.format(saveDir, prior_mode, NNDict['numSamples']))\n",
    "plt.show()"
   ]
  },
  {
   "cell_type": "code",
   "execution_count": 21,
   "metadata": {},
   "outputs": [
    {
     "name": "stdout",
     "output_type": "stream",
     "text": [
      "(10000, 10) [[ 0  0  0 32  0  0  0  0  0  0]\n",
      " [ 0  0  0  0  0  0  0  0 31  0]\n",
      " [ 0  0  0  0  0  0  0  0 27  0]\n",
      " [29  0  1  0  0  0  0  0  1  0]\n",
      " [ 0  0  1  0  0  0 30  0  0  0]]\n"
     ]
    }
   ],
   "source": [
    "postCurrentBinCounts = np.array([np.bincount(np.int_(x), minlength = 10) for x in postCurrent])\n",
    "print(np.shape(postCurrentBinCounts), postCurrentBinCounts[:5])\n",
    "np.save('{0}/{1}_CNN_{2}_soft_labels.npy'.format(loadDir, prior_mode, NNDict['numSamples']), postCurrentBinCounts)"
   ]
  },
  {
   "cell_type": "code",
   "execution_count": null,
   "metadata": {},
   "outputs": [],
   "source": []
  }
 ],
 "metadata": {
  "kernelspec": {
   "display_name": "Python 3",
   "language": "python",
   "name": "python3"
  },
  "language_info": {
   "codemirror_mode": {
    "name": "ipython",
    "version": 3
   },
   "file_extension": ".py",
   "mimetype": "text/x-python",
   "name": "python",
   "nbconvert_exporter": "python",
   "pygments_lexer": "ipython3",
   "version": "3.7.3"
  }
 },
 "nbformat": 4,
 "nbformat_minor": 2
}
