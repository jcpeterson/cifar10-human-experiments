{
 "cells": [
  {
   "cell_type": "code",
   "execution_count": 7,
   "metadata": {
    "collapsed": true
   },
   "outputs": [],
   "source": [
    "%matplotlib inline\n",
    "import pandas as pd\n",
    "import numpy as np\n",
    "import os\n",
    "import shutil\n"
   ]
  },
  {
   "cell_type": "code",
   "execution_count": 8,
   "metadata": {},
   "outputs": [
    {
     "name": "stdout",
     "output_type": "stream",
     "text": [
      "['vgg_15_BN_64_con_True_lr_0.001_seed_0_scores.csv', 'vgg_15_BN_64_con_False_lr_0.001_seed_0_scores.csv', 'vgg_15_BN_64_con_True_lr_0.1_seed_0_scores.csv', 'vgg_15_BN_64_con_True_lr_0.01_seed_0_scores.csv', 'vgg_15_BN_64_con_False_lr_0.01_seed_0_scores.csv', 'pandas_csv.ipynb', 'vgg_15_BN_64_con_False_lr_0.1_seed_0_scores.csv']\n"
     ]
    }
   ],
   "source": [
    "w_dir = os.getcwd()\n",
    "\n",
    "filenames = [x for x in os.listdir() if 'csv' in x]\n",
    "print(filenames)\n",
    "\n"
   ]
  },
  {
   "cell_type": "code",
   "execution_count": 14,
   "metadata": {},
   "outputs": [
    {
     "data": {
      "text/plain": [
       "0.58386236524581914"
      ]
     },
     "execution_count": 14,
     "metadata": {},
     "output_type": "execute_result"
    }
   ],
   "source": [
    "data = pd.read_csv(filenames[0]) \n",
    "min_value = data.c10h_val_loss.min()\n",
    "min_value"
   ]
  }
 ],
 "metadata": {
  "kernelspec": {
   "display_name": "Python 3",
   "language": "python",
   "name": "python3"
  },
  "language_info": {
   "codemirror_mode": {
    "name": "ipython",
    "version": 3
   },
   "file_extension": ".py",
   "mimetype": "text/x-python",
   "name": "python",
   "nbconvert_exporter": "python",
   "pygments_lexer": "ipython3",
   "version": "3.6.3"
  }
 },
 "nbformat": 4,
 "nbformat_minor": 2
}
