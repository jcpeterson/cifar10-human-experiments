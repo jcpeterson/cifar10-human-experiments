{
 "cells": [
  {
   "cell_type": "code",
   "execution_count": 7,
   "metadata": {},
   "outputs": [
    {
     "name": "stdout",
     "output_type": "stream",
     "text": [
      "{'mean_accuracy': 0.5, 'total_sba': 0.5, 'correct_sba': 0.5, 'incorrect_sba': 0.5}\n"
     ]
    }
   ],
   "source": [
    "%matplotlib inline\n",
    "import os, sys, gc\n",
    "import shutil\n",
    "import numpy as np\n",
    "\n",
    "import matplotlib\n",
    "import matplotlib.pyplot as plt\n",
    "\n",
    "from matplotlib import gridspec\n",
    "import matplotlib.image as mpimg\n",
    "\n",
    "from scipy.stats import pearsonr as pr\n",
    "\n",
    "import collections\n",
    "\n",
    "\n",
    "def get_model_scores(model_predictions, human_predictions):\n",
    "    \"\"\"Returns second best accuracy scores\"\"\"\n",
    "    total = model_predictions.shape[0]\n",
    "\n",
    "    model_guesses = np.argsort(model_predictions, axis = 1)[:, -2: ]\n",
    "    model_second_guesses = model_guesses[:, 0]\n",
    "    model_top_guesses = model_guesses[:, 1]\n",
    "    \n",
    "    human_guesses = np.argsort(human_predictions, axis = 1)[:, -2: ]\n",
    "    human_second_guesses = human_guesses[:, 0]\n",
    "    human_top_guesses = human_guesses[:, 1]\n",
    "                                      \n",
    "    matches = model_top_guesses == human_top_guesses\n",
    "    #print('total', total)\n",
    "    #print('model_top_guesses', model_top_guesses)\n",
    "    #print('model_second_guesses', model_second_guesses)\n",
    "    #print('human_top_guesses', human_top_guesses)\n",
    "    #print('human_second_guesses', human_second_guesses)\n",
    "    #print('matches', matches)\n",
    "    accuracy = np.sum(matches)\n",
    "    mean_accuracy = np.mean(matches)\n",
    "    correct_total = accuracy\n",
    "    incorrect_total = total - accuracy\n",
    "    \n",
    "    #print('overall model accuracy: ', mean_accuracy)\n",
    "    #print('correct total: ', correct_total)\n",
    "    #print('incorrect total: ', incorrect_total)\n",
    "\n",
    "    incorrect_sba = 0\n",
    "    correct_sba = 0\n",
    "    total_sba = 0\n",
    "    \n",
    "    for i, match in enumerate(matches):\n",
    "        model_first = model_top_guesses[i]\n",
    "        human_first = human_top_guesses[i]\n",
    "        model_second = model_second_guesses[i]\n",
    "        human_second = human_second_guesses[i]\n",
    "        \n",
    "        total_sba += model_second == human_second\n",
    "        \n",
    "        if match == True:\n",
    "            correct_sba += model_second == human_second\n",
    "        elif match == False:\n",
    "            incorrect_sba += model_second == human_first\n",
    "            \n",
    "    return {'mean_accuracy': mean_accuracy, \n",
    "            'total_sba': total_sba / total, \n",
    "            'correct_sba': correct_sba / correct_total, \n",
    "            'incorrect_sba': incorrect_sba / incorrect_total}\n",
    "#                 # both c     #top c     # top i     # both i\n",
    "#humans = np.array([[1, 2, 3], [1, 3, 2], [2, 1, 3], [2, 3, 1]])\n",
    "#models = np.array([[1, 2, 3], [2, 3, 1], [2, 3, 1], [1, 2, 3]])\n",
    "\n",
    "# should be 2 /4 (50%) correct, 2 /4 (50%) total sba, \n",
    "#1 /2 (50%) correct sba, 1 /2 (50%) incorrect sba\n",
    "#print(get_model_scores(models, humans))\n"
   ]
  },
  {
   "cell_type": "code",
   "execution_count": 11,
   "metadata": {},
   "outputs": [
    {
     "name": "stdout",
     "output_type": "stream",
     "text": [
      "val idx shape:  (1000,)\n"
     ]
    }
   ],
   "source": [
    "loadDir = 'base_predictions'\n",
    "postDir = 'post'\n",
    "saveDir = 'figures'\n",
    "# raw bins\n",
    "bins = np.load('{0}/human_bincounts.npy'.format(loadDir))\n",
    "#correct = np.argmax(bins, axis = 1)\n",
    "#print(correct[:5])\n",
    "#raw probabilities\n",
    "humans = bins / np.sum(bins, axis = 1)[:, np.newaxis]\n",
    "max_prob = np.max(humans, axis = 1)\n",
    "humans_correct = np.argmax(humans, axis = 1)\n",
    "humans_smoothed = (bins + 1) / np.sum(bins, axis = 1)[:, np.newaxis]\n",
    "\n",
    "validation_idx = np.load('./val_idx_seed_0.npy')\n",
    "print('val idx shape: ', validation_idx.shape)\n",
    "\n",
    "ordered_filenames = np.load('{0}/decoded_test_filename_order.npy'.format(loadDir))\n",
    "\n",
    "labels = ['P', 'A', 'B', 'C', 'De', 'Do', 'F', 'H', 'S', 'T']\n",
    "\n",
    "im_dir = '/home/battleday/Academic/Berkeley/Superman/local/images/train_set_combined'"
   ]
  },
  {
   "cell_type": "code",
   "execution_count": 3,
   "metadata": {},
   "outputs": [
    {
     "data": {
      "text/plain": [
       "(1000,)"
      ]
     },
     "execution_count": 3,
     "metadata": {},
     "output_type": "execute_result"
    }
   ],
   "source": [
    "np.shape(np.intersect1d(validation_idx, np.arange(10000)))"
   ]
  },
  {
   "cell_type": "code",
   "execution_count": 4,
   "metadata": {},
   "outputs": [
    {
     "name": "stdout",
     "output_type": "stream",
     "text": [
      "['resnext_29_8x64d_test.npz', 'resnet_preact_bottleneck_164_test.npz', 'densenet_BC_100_12_test.npz', 'vgg_15_BN_64_test.npz', 'pyramidnet_basic_110_270_test.npz', 'wrn_28_10_test.npz', 'shake_shake_26_2x64d_SSI_cutout16_test.npz', 'resnet_basic_110_test.npz']\n",
      "['densenet_BC_100_12_test.npz', 'pyramidnet_basic_110_270_test.npz', 'resnet_basic_110_test.npz', 'resnet_preact_bottleneck_164_test.npz', 'resnext_29_8x64d_test.npz', 'shake_shake_26_2x64d_SSI_cutout16_test.npz', 'vgg_15_BN_64_test.npz', 'wrn_28_10_test.npz']\n",
      "['densenet_BC_100_12_test.npz', 'pyramidnet_basic_110_270_test.npz', 'resnet_basic_110_test.npz', 'resnext_29_8x64d_test.npz', 'shake_shake_26_2x64d_SSI_cutout16_test.npz', 'vgg_15_BN_64_test.npz', 'wrn_28_10_test.npz']\n",
      "odict_keys(['densenet_BC_100_12_test', 'pyramidnet_basic_110_270_test', 'resnet_basic_110_test', 'resnext_29_8x64d_test', 'shake_shake_26_2x64d_SSI_cutout16_test', 'vgg_15_BN_64_test', 'wrn_28_10_test'])\n"
     ]
    }
   ],
   "source": [
    "test_files = os.listdir('{0}/test/'.format(loadDir))\n",
    "print(test_files)\n",
    "test_files = sorted([p for p in test_files if p[-4:] == '.npz'])\n",
    "print(test_files)\n",
    "test_files.remove('resnet_preact_bottleneck_164_test.npz')\n",
    "print(test_files)\n",
    "\n",
    "test_dict = collections.OrderedDict()\n",
    "for m in test_files:\n",
    "    raw = np.load('{0}/test/{1}'.format(loadDir, m))\n",
    "    model = m.split('.')[0]\n",
    "    test_dict[model] = {}\n",
    "    for prop in raw.keys(): \n",
    "        test_dict[model][prop] = raw[prop]\n",
    "print(test_dict.keys())\n"
   ]
  },
  {
   "cell_type": "code",
   "execution_count": 5,
   "metadata": {},
   "outputs": [
    {
     "name": "stdout",
     "output_type": "stream",
     "text": [
      "odict_keys(['densenet_BC_100_12_test', 'pyramidnet_basic_110_270_test', 'resnet_basic_110_test', 'resnet_basic_110_train', 'resnext_29_8x64d_test', 'shake_shake_26_2x64d_SSI_cutout16_test', 'vgg_15_BN_64_test', 'vgg_15_BN_64_train', 'wrn_28_10_test', 'wrn_28_10_train'])\n"
     ]
    }
   ],
   "source": [
    "post_files = os.listdir('{0}/'.format(postDir))\n",
    "#print(post_files)\n",
    "post_files = sorted([p for p in post_files if p[-4:] == '.npz'])\n",
    "#print(post_files)\n",
    "\n",
    "post_dict = collections.OrderedDict()\n",
    "for m in post_files:\n",
    "    raw = np.load('{0}/{1}'.format(postDir, m))\n",
    "    model = m.split('.')[0]\n",
    "    post_dict[model] = {}\n",
    "    for prop in raw.keys(): \n",
    "        post_dict[model][prop] = raw[prop]\n",
    "print(post_dict.keys())\n",
    "\n"
   ]
  },
  {
   "cell_type": "code",
   "execution_count": 17,
   "metadata": {},
   "outputs": [
    {
     "name": "stdout",
     "output_type": "stream",
     "text": [
      "densenet_BC_100_12_test\n",
      "(10000, 10)\n",
      "(1000, 10)\n",
      "(1000, 10)\n",
      "mean_accuracy 0.961\n",
      "total_sba 0.264\n",
      "correct_sba 0.270551508845\n",
      "incorrect_sba 0.74358974359\n",
      "pyramidnet_basic_110_270_test\n",
      "(10000, 10)\n",
      "(1000, 10)\n",
      "(1000, 10)\n",
      "mean_accuracy 0.966\n",
      "total_sba 0.238\n",
      "correct_sba 0.245341614907\n",
      "incorrect_sba 0.617647058824\n",
      "resnet_basic_110_test\n",
      "(10000, 10)\n",
      "(1000, 10)\n",
      "(1000, 10)\n",
      "mean_accuracy 0.942\n",
      "total_sba 0.236\n",
      "correct_sba 0.246284501062\n",
      "incorrect_sba 0.637931034483\n",
      "resnext_29_8x64d_test\n",
      "(10000, 10)\n",
      "(1000, 10)\n",
      "(1000, 10)\n",
      "mean_accuracy 0.965\n",
      "total_sba 0.258\n",
      "correct_sba 0.266321243523\n",
      "incorrect_sba 0.628571428571\n",
      "shake_shake_26_2x64d_SSI_cutout16_test\n",
      "(10000, 10)\n",
      "(1000, 10)\n",
      "(1000, 10)\n",
      "mean_accuracy 0.967\n",
      "total_sba 0.286\n",
      "correct_sba 0.29265770424\n",
      "incorrect_sba 0.666666666667\n",
      "vgg_15_BN_64_test\n",
      "(10000, 10)\n",
      "(1000, 10)\n",
      "(1000, 10)\n",
      "mean_accuracy 0.944\n",
      "total_sba 0.239\n",
      "correct_sba 0.25\n",
      "incorrect_sba 0.625\n",
      "wrn_28_10_test\n",
      "(10000, 10)\n",
      "(1000, 10)\n",
      "(1000, 10)\n",
      "mean_accuracy 0.955\n",
      "total_sba 0.265\n",
      "correct_sba 0.276439790576\n",
      "incorrect_sba 0.688888888889\n"
     ]
    }
   ],
   "source": [
    "accuracies = []\n",
    "sbas = []\n",
    "i_sbas = []\n",
    "c_sbas = []\n",
    "models = []\n",
    "\n",
    "for model, value in test_dict.items():\n",
    "    print(model)\n",
    "    models.append(model)\n",
    "    print(humans.shape)\n",
    "    humans_val = humans.copy()[validation_idx]\n",
    "    print(humans_val.shape)\n",
    "    model_val = value['probs'][validation_idx]\n",
    "    print(model_val.shape)\n",
    "    value['scores'] = get_model_scores(model_val, \n",
    "                                       humans_val)\n",
    "    for k, v in value['scores'].items():\n",
    "        print(k, v)\n",
    "        \n",
    "    accuracies.append(value['scores']['mean_accuracy'])\n",
    "    sbas.append(value['scores']['total_sba'])\n",
    "    i_sbas.append(value['scores']['incorrect_sba'])\n",
    "    c_sbas.append(value['scores']['correct_sba'])\n",
    "    \n"
   ]
  },
  {
   "cell_type": "code",
   "execution_count": 19,
   "metadata": {},
   "outputs": [
    {
     "name": "stdout",
     "output_type": "stream",
     "text": [
      "densenet_BC_100_12_test\n",
      "(10000, 10)\n",
      "(1000, 10)\n",
      "(1000, 10)\n",
      "mean_accuracy 0.945\n",
      "total_sba 0.307\n",
      "correct_sba 0.321693121693\n",
      "incorrect_sba 0.763636363636\n",
      "pyramidnet_basic_110_270_test\n",
      "(10000, 10)\n",
      "(1000, 10)\n",
      "(1000, 10)\n",
      "mean_accuracy 0.96\n",
      "total_sba 0.325\n",
      "correct_sba 0.336458333333\n",
      "incorrect_sba 0.825\n",
      "resnet_basic_110_test\n",
      "(10000, 10)\n",
      "(1000, 10)\n",
      "(1000, 10)\n",
      "mean_accuracy 0.935\n",
      "total_sba 0.3\n",
      "correct_sba 0.316577540107\n",
      "incorrect_sba 0.676923076923\n",
      "resnet_basic_110_train\n",
      "(10000, 10)\n",
      "(1000, 10)\n",
      "(1000, 10)\n",
      "mean_accuracy 0.098\n",
      "total_sba 0.111\n",
      "correct_sba 0.244897959184\n",
      "incorrect_sba 0.10421286031\n",
      "resnext_29_8x64d_test\n",
      "(10000, 10)\n",
      "(1000, 10)\n",
      "(1000, 10)\n",
      "mean_accuracy 0.962\n",
      "total_sba 0.329\n",
      "correct_sba 0.335758835759\n",
      "incorrect_sba 0.657894736842\n",
      "shake_shake_26_2x64d_SSI_cutout16_test\n",
      "(10000, 10)\n",
      "(1000, 10)\n",
      "(1000, 10)\n",
      "mean_accuracy 0.969\n",
      "total_sba 0.347\n",
      "correct_sba 0.357069143447\n",
      "incorrect_sba 0.806451612903\n",
      "vgg_15_BN_64_test\n",
      "(10000, 10)\n",
      "(1000, 10)\n",
      "(1000, 10)\n",
      "mean_accuracy 0.937\n",
      "total_sba 0.318\n",
      "correct_sba 0.338313767343\n",
      "incorrect_sba 0.714285714286\n",
      "vgg_15_BN_64_train\n",
      "(10000, 10)\n",
      "(1000, 10)\n",
      "(1000, 10)\n",
      "mean_accuracy 0.098\n",
      "total_sba 0.108\n",
      "correct_sba 0.255102040816\n",
      "incorrect_sba 0.10421286031\n",
      "wrn_28_10_test\n",
      "(10000, 10)\n",
      "(1000, 10)\n",
      "(1000, 10)\n",
      "mean_accuracy 0.959\n",
      "total_sba 0.331\n",
      "correct_sba 0.343065693431\n",
      "incorrect_sba 0.80487804878\n",
      "wrn_28_10_train\n",
      "(10000, 10)\n",
      "(1000, 10)\n",
      "(1000, 10)\n",
      "mean_accuracy 0.098\n",
      "total_sba 0.098\n",
      "correct_sba 0.244897959184\n",
      "incorrect_sba 0.116407982262\n"
     ]
    }
   ],
   "source": [
    "accuracies_post = []\n",
    "sbas_post = []\n",
    "i_sbas_post = []\n",
    "c_sbas_post = []\n",
    "models_post = []\n",
    "for model, value in post_dict.items():\n",
    "    print(model)\n",
    "    models_post.append(model)\n",
    "    print(humans.shape)\n",
    "    humans_val = humans.copy()[validation_idx]\n",
    "    print(humans_val.shape)\n",
    "    model_val = value['probs'][validation_idx]\n",
    "    print(model_val.shape)\n",
    "    value['scores'] = get_model_scores(model_val, \n",
    "                                       humans_val)\n",
    "    for k, v in value['scores'].items():\n",
    "        print(k, v)\n",
    "        \n",
    "    accuracies_post.append(value['scores']['mean_accuracy'])\n",
    "    sbas_post.append(value['scores']['total_sba'])\n",
    "    i_sbas_post.append(value['scores']['incorrect_sba'])\n",
    "    c_sbas_post.append(value['scores']['correct_sba'])"
   ]
  },
  {
   "cell_type": "code",
   "execution_count": 23,
   "metadata": {},
   "outputs": [
    {
     "name": "stdout",
     "output_type": "stream",
     "text": [
      "['densenet BC 100 12', 'pyramidnet basic 110 270', 'resnet basic 110', 'resnet basic 110', 'resnext 29 8x64d', 'shake shake 26 2x64d SSI cutout16', 'vgg 15 BN 64', 'vgg 15 BN 64', 'wrn 28 10', 'wrn 28 10']\n",
      "10 7\n"
     ]
    },
    {
     "ename": "ValueError",
     "evalue": "x and y must have same first dimension, but have shapes (10,) and (7,)",
     "output_type": "error",
     "traceback": [
      "\u001b[0;31m---------------------------------------------------------------------------\u001b[0m",
      "\u001b[0;31mValueError\u001b[0m                                Traceback (most recent call last)",
      "\u001b[0;32m<ipython-input-23-98fc993a1b86>\u001b[0m in \u001b[0;36m<module>\u001b[0;34m()\u001b[0m\n\u001b[1;32m      5\u001b[0m \u001b[0mplt\u001b[0m\u001b[0;34m.\u001b[0m\u001b[0mtitle\u001b[0m\u001b[0;34m(\u001b[0m\u001b[0;34m'SBA pre- post-tuning plot: (single) validation subset'\u001b[0m\u001b[0;34m)\u001b[0m\u001b[0;34m\u001b[0m\u001b[0m\n\u001b[1;32m      6\u001b[0m \u001b[0mplt\u001b[0m\u001b[0;34m.\u001b[0m\u001b[0mylim\u001b[0m\u001b[0;34m(\u001b[0m\u001b[0;34m[\u001b[0m\u001b[0;36m0\u001b[0m\u001b[0;34m,\u001b[0m \u001b[0;36m1\u001b[0m\u001b[0;34m]\u001b[0m\u001b[0;34m)\u001b[0m\u001b[0;34m\u001b[0m\u001b[0m\n\u001b[0;32m----> 7\u001b[0;31m \u001b[0mplt\u001b[0m\u001b[0;34m.\u001b[0m\u001b[0mplot\u001b[0m\u001b[0;34m(\u001b[0m\u001b[0mmodels_new\u001b[0m\u001b[0;34m,\u001b[0m \u001b[0maccuracies\u001b[0m\u001b[0;34m,\u001b[0m \u001b[0mmarker\u001b[0m\u001b[0;34m=\u001b[0m\u001b[0;34m'o'\u001b[0m\u001b[0;34m,\u001b[0m \u001b[0mlinewidth\u001b[0m\u001b[0;34m=\u001b[0m\u001b[0;36m0\u001b[0m\u001b[0;34m)\u001b[0m\u001b[0;34m\u001b[0m\u001b[0m\n\u001b[0m\u001b[1;32m      8\u001b[0m \u001b[0mplt\u001b[0m\u001b[0;34m.\u001b[0m\u001b[0mplot\u001b[0m\u001b[0;34m(\u001b[0m\u001b[0mmodels_new\u001b[0m\u001b[0;34m,\u001b[0m \u001b[0maccuracies_post\u001b[0m\u001b[0;34m,\u001b[0m \u001b[0;34m'r'\u001b[0m\u001b[0;34m,\u001b[0m \u001b[0mmarker\u001b[0m\u001b[0;34m=\u001b[0m\u001b[0;34m'x'\u001b[0m\u001b[0;34m,\u001b[0m \u001b[0mlinewidth\u001b[0m\u001b[0;34m=\u001b[0m\u001b[0;36m0\u001b[0m\u001b[0;34m)\u001b[0m\u001b[0;34m\u001b[0m\u001b[0m\n\u001b[1;32m      9\u001b[0m \u001b[0mplt\u001b[0m\u001b[0;34m.\u001b[0m\u001b[0mxticks\u001b[0m\u001b[0;34m(\u001b[0m\u001b[0mrotation\u001b[0m\u001b[0;34m=\u001b[0m\u001b[0;36m70\u001b[0m\u001b[0;34m,\u001b[0m \u001b[0mha\u001b[0m\u001b[0;34m=\u001b[0m\u001b[0;34m'right'\u001b[0m\u001b[0;34m)\u001b[0m\u001b[0;34m\u001b[0m\u001b[0m\n",
      "\u001b[0;32m~/anaconda3/lib/python3.6/site-packages/matplotlib/pyplot.py\u001b[0m in \u001b[0;36mplot\u001b[0;34m(*args, **kwargs)\u001b[0m\n\u001b[1;32m   3238\u001b[0m                       mplDeprecation)\n\u001b[1;32m   3239\u001b[0m     \u001b[0;32mtry\u001b[0m\u001b[0;34m:\u001b[0m\u001b[0;34m\u001b[0m\u001b[0m\n\u001b[0;32m-> 3240\u001b[0;31m         \u001b[0mret\u001b[0m \u001b[0;34m=\u001b[0m \u001b[0max\u001b[0m\u001b[0;34m.\u001b[0m\u001b[0mplot\u001b[0m\u001b[0;34m(\u001b[0m\u001b[0;34m*\u001b[0m\u001b[0margs\u001b[0m\u001b[0;34m,\u001b[0m \u001b[0;34m**\u001b[0m\u001b[0mkwargs\u001b[0m\u001b[0;34m)\u001b[0m\u001b[0;34m\u001b[0m\u001b[0m\n\u001b[0m\u001b[1;32m   3241\u001b[0m     \u001b[0;32mfinally\u001b[0m\u001b[0;34m:\u001b[0m\u001b[0;34m\u001b[0m\u001b[0m\n\u001b[1;32m   3242\u001b[0m         \u001b[0max\u001b[0m\u001b[0;34m.\u001b[0m\u001b[0m_hold\u001b[0m \u001b[0;34m=\u001b[0m \u001b[0mwashold\u001b[0m\u001b[0;34m\u001b[0m\u001b[0m\n",
      "\u001b[0;32m~/anaconda3/lib/python3.6/site-packages/matplotlib/__init__.py\u001b[0m in \u001b[0;36minner\u001b[0;34m(ax, *args, **kwargs)\u001b[0m\n\u001b[1;32m   1708\u001b[0m                     warnings.warn(msg % (label_namer, func.__name__),\n\u001b[1;32m   1709\u001b[0m                                   RuntimeWarning, stacklevel=2)\n\u001b[0;32m-> 1710\u001b[0;31m             \u001b[0;32mreturn\u001b[0m \u001b[0mfunc\u001b[0m\u001b[0;34m(\u001b[0m\u001b[0max\u001b[0m\u001b[0;34m,\u001b[0m \u001b[0;34m*\u001b[0m\u001b[0margs\u001b[0m\u001b[0;34m,\u001b[0m \u001b[0;34m**\u001b[0m\u001b[0mkwargs\u001b[0m\u001b[0;34m)\u001b[0m\u001b[0;34m\u001b[0m\u001b[0m\n\u001b[0m\u001b[1;32m   1711\u001b[0m         \u001b[0mpre_doc\u001b[0m \u001b[0;34m=\u001b[0m \u001b[0minner\u001b[0m\u001b[0;34m.\u001b[0m\u001b[0m__doc__\u001b[0m\u001b[0;34m\u001b[0m\u001b[0m\n\u001b[1;32m   1712\u001b[0m         \u001b[0;32mif\u001b[0m \u001b[0mpre_doc\u001b[0m \u001b[0;32mis\u001b[0m \u001b[0;32mNone\u001b[0m\u001b[0;34m:\u001b[0m\u001b[0;34m\u001b[0m\u001b[0m\n",
      "\u001b[0;32m~/anaconda3/lib/python3.6/site-packages/matplotlib/axes/_axes.py\u001b[0m in \u001b[0;36mplot\u001b[0;34m(self, *args, **kwargs)\u001b[0m\n\u001b[1;32m   1435\u001b[0m         \u001b[0mkwargs\u001b[0m \u001b[0;34m=\u001b[0m \u001b[0mcbook\u001b[0m\u001b[0;34m.\u001b[0m\u001b[0mnormalize_kwargs\u001b[0m\u001b[0;34m(\u001b[0m\u001b[0mkwargs\u001b[0m\u001b[0;34m,\u001b[0m \u001b[0m_alias_map\u001b[0m\u001b[0;34m)\u001b[0m\u001b[0;34m\u001b[0m\u001b[0m\n\u001b[1;32m   1436\u001b[0m \u001b[0;34m\u001b[0m\u001b[0m\n\u001b[0;32m-> 1437\u001b[0;31m         \u001b[0;32mfor\u001b[0m \u001b[0mline\u001b[0m \u001b[0;32min\u001b[0m \u001b[0mself\u001b[0m\u001b[0;34m.\u001b[0m\u001b[0m_get_lines\u001b[0m\u001b[0;34m(\u001b[0m\u001b[0;34m*\u001b[0m\u001b[0margs\u001b[0m\u001b[0;34m,\u001b[0m \u001b[0;34m**\u001b[0m\u001b[0mkwargs\u001b[0m\u001b[0;34m)\u001b[0m\u001b[0;34m:\u001b[0m\u001b[0;34m\u001b[0m\u001b[0m\n\u001b[0m\u001b[1;32m   1438\u001b[0m             \u001b[0mself\u001b[0m\u001b[0;34m.\u001b[0m\u001b[0madd_line\u001b[0m\u001b[0;34m(\u001b[0m\u001b[0mline\u001b[0m\u001b[0;34m)\u001b[0m\u001b[0;34m\u001b[0m\u001b[0m\n\u001b[1;32m   1439\u001b[0m             \u001b[0mlines\u001b[0m\u001b[0;34m.\u001b[0m\u001b[0mappend\u001b[0m\u001b[0;34m(\u001b[0m\u001b[0mline\u001b[0m\u001b[0;34m)\u001b[0m\u001b[0;34m\u001b[0m\u001b[0m\n",
      "\u001b[0;32m~/anaconda3/lib/python3.6/site-packages/matplotlib/axes/_base.py\u001b[0m in \u001b[0;36m_grab_next_args\u001b[0;34m(self, *args, **kwargs)\u001b[0m\n\u001b[1;32m    402\u001b[0m                 \u001b[0mthis\u001b[0m \u001b[0;34m+=\u001b[0m \u001b[0margs\u001b[0m\u001b[0;34m[\u001b[0m\u001b[0;36m0\u001b[0m\u001b[0;34m]\u001b[0m\u001b[0;34m,\u001b[0m\u001b[0;34m\u001b[0m\u001b[0m\n\u001b[1;32m    403\u001b[0m                 \u001b[0margs\u001b[0m \u001b[0;34m=\u001b[0m \u001b[0margs\u001b[0m\u001b[0;34m[\u001b[0m\u001b[0;36m1\u001b[0m\u001b[0;34m:\u001b[0m\u001b[0;34m]\u001b[0m\u001b[0;34m\u001b[0m\u001b[0m\n\u001b[0;32m--> 404\u001b[0;31m             \u001b[0;32mfor\u001b[0m \u001b[0mseg\u001b[0m \u001b[0;32min\u001b[0m \u001b[0mself\u001b[0m\u001b[0;34m.\u001b[0m\u001b[0m_plot_args\u001b[0m\u001b[0;34m(\u001b[0m\u001b[0mthis\u001b[0m\u001b[0;34m,\u001b[0m \u001b[0mkwargs\u001b[0m\u001b[0;34m)\u001b[0m\u001b[0;34m:\u001b[0m\u001b[0;34m\u001b[0m\u001b[0m\n\u001b[0m\u001b[1;32m    405\u001b[0m                 \u001b[0;32myield\u001b[0m \u001b[0mseg\u001b[0m\u001b[0;34m\u001b[0m\u001b[0m\n\u001b[1;32m    406\u001b[0m \u001b[0;34m\u001b[0m\u001b[0m\n",
      "\u001b[0;32m~/anaconda3/lib/python3.6/site-packages/matplotlib/axes/_base.py\u001b[0m in \u001b[0;36m_plot_args\u001b[0;34m(self, tup, kwargs)\u001b[0m\n\u001b[1;32m    382\u001b[0m             \u001b[0mx\u001b[0m\u001b[0;34m,\u001b[0m \u001b[0my\u001b[0m \u001b[0;34m=\u001b[0m \u001b[0mindex_of\u001b[0m\u001b[0;34m(\u001b[0m\u001b[0mtup\u001b[0m\u001b[0;34m[\u001b[0m\u001b[0;34m-\u001b[0m\u001b[0;36m1\u001b[0m\u001b[0;34m]\u001b[0m\u001b[0;34m)\u001b[0m\u001b[0;34m\u001b[0m\u001b[0m\n\u001b[1;32m    383\u001b[0m \u001b[0;34m\u001b[0m\u001b[0m\n\u001b[0;32m--> 384\u001b[0;31m         \u001b[0mx\u001b[0m\u001b[0;34m,\u001b[0m \u001b[0my\u001b[0m \u001b[0;34m=\u001b[0m \u001b[0mself\u001b[0m\u001b[0;34m.\u001b[0m\u001b[0m_xy_from_xy\u001b[0m\u001b[0;34m(\u001b[0m\u001b[0mx\u001b[0m\u001b[0;34m,\u001b[0m \u001b[0my\u001b[0m\u001b[0;34m)\u001b[0m\u001b[0;34m\u001b[0m\u001b[0m\n\u001b[0m\u001b[1;32m    385\u001b[0m \u001b[0;34m\u001b[0m\u001b[0m\n\u001b[1;32m    386\u001b[0m         \u001b[0;32mif\u001b[0m \u001b[0mself\u001b[0m\u001b[0;34m.\u001b[0m\u001b[0mcommand\u001b[0m \u001b[0;34m==\u001b[0m \u001b[0;34m'plot'\u001b[0m\u001b[0;34m:\u001b[0m\u001b[0;34m\u001b[0m\u001b[0m\n",
      "\u001b[0;32m~/anaconda3/lib/python3.6/site-packages/matplotlib/axes/_base.py\u001b[0m in \u001b[0;36m_xy_from_xy\u001b[0;34m(self, x, y)\u001b[0m\n\u001b[1;32m    241\u001b[0m         \u001b[0;32mif\u001b[0m \u001b[0mx\u001b[0m\u001b[0;34m.\u001b[0m\u001b[0mshape\u001b[0m\u001b[0;34m[\u001b[0m\u001b[0;36m0\u001b[0m\u001b[0;34m]\u001b[0m \u001b[0;34m!=\u001b[0m \u001b[0my\u001b[0m\u001b[0;34m.\u001b[0m\u001b[0mshape\u001b[0m\u001b[0;34m[\u001b[0m\u001b[0;36m0\u001b[0m\u001b[0;34m]\u001b[0m\u001b[0;34m:\u001b[0m\u001b[0;34m\u001b[0m\u001b[0m\n\u001b[1;32m    242\u001b[0m             raise ValueError(\"x and y must have same first dimension, but \"\n\u001b[0;32m--> 243\u001b[0;31m                              \"have shapes {} and {}\".format(x.shape, y.shape))\n\u001b[0m\u001b[1;32m    244\u001b[0m         \u001b[0;32mif\u001b[0m \u001b[0mx\u001b[0m\u001b[0;34m.\u001b[0m\u001b[0mndim\u001b[0m \u001b[0;34m>\u001b[0m \u001b[0;36m2\u001b[0m \u001b[0;32mor\u001b[0m \u001b[0my\u001b[0m\u001b[0;34m.\u001b[0m\u001b[0mndim\u001b[0m \u001b[0;34m>\u001b[0m \u001b[0;36m2\u001b[0m\u001b[0;34m:\u001b[0m\u001b[0;34m\u001b[0m\u001b[0m\n\u001b[1;32m    245\u001b[0m             raise ValueError(\"x and y can be no greater than 2-D, but have \"\n",
      "\u001b[0;31mValueError\u001b[0m: x and y must have same first dimension, but have shapes (10,) and (7,)"
     ]
    },
    {
     "data": {
      "image/png": "[encoded data removed]",
      "text/plain": [
       "<matplotlib.figure.Figure at 0x7fe5e8dc0fd0>"
      ]
     },
     "metadata": {},
     "output_type": "display_data"
    }
   ],
   "source": [
    "models_new = [(' ').join(x.split('_')[:-1]) for x in models_post]\n",
    "print(models_new)\n",
    "print(len(models_new), len(accuracies))\n",
    "plt.figure()\n",
    "plt.title('SBA pre- post-tuning plot: (single) validation subset')\n",
    "plt.ylim([0, 1])\n",
    "plt.plot(models_new, accuracies, marker='o', linewidth=0)\n",
    "plt.plot(models_new, accuracies_post, 'r', marker='x', linewidth=0)\n",
    "plt.xticks(rotation=70, ha='right')\n",
    "np.mean(np.array(val_sbas_post) - np.array(val_sbas))"
   ]
  },
  {
   "cell_type": "code",
   "execution_count": null,
   "metadata": {
    "collapsed": true
   },
   "outputs": [],
   "source": [
    "averageTestProb = []\n",
    "for key, value in test_dict.items():\n",
    "    correct = value['labels']\n",
    "    averageTestProb.append(value['probs'])\n",
    "averageTestProb = np.mean(averageTestProb, axis=0)\n",
    "print(averageTestProb.shape, np.argmax(averageTestProb, axis = 1))\n",
    "print(correct)\n",
    "correctProb = averageTestProb[np.arange(correct.shape[0]), correct]\n",
    "print(correctProb.shape)\n",
    "\n",
    "top = np.argsort(correctProb)[:2000]\n",
    "print(top.shape, top[:5], correctProb[top[5:]])\n",
    "\n",
    "human_correct = np.argmax(humans, axis = 1)\n",
    "human_correct_prob = np.max(humans, axis = 1)\n",
    "print('hcp[:3]', human_correct_prob[:3])\n",
    "print(human_correct.shape)\n",
    "agg_NN_correct = np.argmax(averageTestProb, axis = 1)\n",
    "print(agg_NN_correct.shape)\n",
    "print(np.mean(human_correct != agg_NN_correct))\n",
    "print(np.mean(correct != agg_NN_correct))\n",
    "print(np.mean(human_correct != correct))\n",
    "\n",
    "print(1 - soft_certain(humans[top]))"
   ]
  },
  {
   "cell_type": "code",
   "execution_count": null,
   "metadata": {
    "collapsed": true
   },
   "outputs": [],
   "source": [
    "averageEnt = []\n",
    "for key, value in test_dict.items():\n",
    "    averageEnt.append(value['entropy'])\n",
    "averageEnt = np.mean(averageEnt, axis=0)\n",
    "print(averageEnt.shape)"
   ]
  },
  {
   "cell_type": "code",
   "execution_count": null,
   "metadata": {
    "collapsed": true
   },
   "outputs": [],
   "source": [
    "# ent to ent\n",
    "plt.figure()\n",
    "plt.scatter(averageEnt, human_ent)\n",
    "print('av ent to ent, all', pr(averageEnt, human_ent))\n",
    "\n",
    "plt.figure()\n",
    "plt.scatter(averageEnt[top], human_ent[top])\n",
    "\n",
    "print('av ent to ent, top', pr(averageEnt[top], human_ent[top]))\n",
    "\n",
    "\n",
    "plt.figure()\n",
    "plt.scatter(correctProb, human_ent)\n",
    "print('av prob to ent, all', pr(correctProb, human_ent))\n",
    "\n",
    "\n",
    "plt.figure()\n",
    "plt.scatter(correctProb[top], human_ent[top])\n",
    "print('av prob to ent, top', pr(correctProb[top], human_ent[top]))\n",
    "\n",
    "\n",
    "plt.figure()\n",
    "plt.scatter(correctProb, human_correct_prob)\n",
    "print('prob to prob, all', pr(correctProb, human_correct_prob))\n",
    "\n",
    "plt.figure()\n",
    "plt.scatter(correctProb[top], human_correct_prob[top])\n",
    "print('prob to prob, top',pr(correctProb[top], human_correct_prob[top]))"
   ]
  },
  {
   "cell_type": "code",
   "execution_count": null,
   "metadata": {
    "collapsed": true
   },
   "outputs": [],
   "source": [
    "plt.figure()\n",
    "plt.hist(human_ent[top])\n",
    "plt.title('NN bottom 20% test set')\n",
    "plt.xlim([0, 2])\n",
    "plt.xlabel('Entropy post smoothing')\n",
    "plt.ylim([0, 1000])\n",
    "plt.ylabel('#')\n",
    "\n",
    "plt.figure()\n",
    "plt.hist(human_ent)\n",
    "plt.title('All test set')\n",
    "plt.xlim([0, 2])\n",
    "plt.ylabel('#')\n",
    "plt.ylim([0, 5000])\n",
    "plt.xlabel('Entropy post smoothing')\n"
   ]
  },
  {
   "cell_type": "code",
   "execution_count": null,
   "metadata": {
    "collapsed": true
   },
   "outputs": [],
   "source": []
  }
 ],
 "metadata": {
  "kernelspec": {
   "display_name": "Python 3",
   "language": "python",
   "name": "python3"
  },
  "language_info": {
   "codemirror_mode": {
    "name": "ipython",
    "version": 3
   },
   "file_extension": ".py",
   "mimetype": "text/x-python",
   "name": "python",
   "nbconvert_exporter": "python",
   "pygments_lexer": "ipython3",
   "version": "3.6.3"
  }
 },
 "nbformat": 4,
 "nbformat_minor": 2
}
