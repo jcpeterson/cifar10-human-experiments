{
 "cells": [
  {
   "cell_type": "code",
   "execution_count": 3,
   "metadata": {},
   "outputs": [
    {
     "name": "stdout",
     "output_type": "stream",
     "text": [
      "0.5\n",
      "0.25\n"
     ]
    }
   ],
   "source": [
    "%matplotlib inline\n",
    "import os, sys, gc\n",
    "import shutil\n",
    "import numpy as np\n",
    "\n",
    "import matplotlib\n",
    "import matplotlib.pyplot as plt\n",
    "from scipy.stats import entropy as scent\n",
    "from matplotlib import gridspec\n",
    "import matplotlib.image as mpimg\n",
    "\n",
    "from scipy.stats import pearsonr as pr\n",
    "\n",
    "import collections\n",
    "\n",
    "def ent_fn(X):\n",
    "    \"\"\"Return row-wise entropy of X (samples by probs)\"\"\"\n",
    "    ents = np.empty(X.shape[0])\n",
    "    for i, row in enumerate(X):\n",
    "        ents[i] = scent(row)\n",
    "    return ents\n",
    "\n",
    "def detect_certain(mat):\n",
    "    \"\"\"Takes n by feats matrix and returns vector of True if \n",
    "    only one entry non-zero\"\"\"\n",
    "    new_mat = mat.copy()\n",
    "    for i, vec in enumerate(mat):\n",
    "        #print(i, vec)\n",
    "        new_mat[i] = (vec > 0).astype(int)\n",
    "        \n",
    "    return np.mean((new_mat.sum(axis = 1) == 1))\n",
    "\n",
    "def soft_certain(mat, thresh = 0.975):\n",
    "    \"\"\"Takes n by cats matrix and returns vector of True if \n",
    "    largest (normalized) entry above thresh\"\"\"\n",
    "    return np.mean(np.max(mat, axis=1) >= thresh)\n",
    "\n",
    "def soft_certain_2(mat, thresh = 0.975):\n",
    "    \"\"\"Takes n by cats matrix and returns vector of True if \n",
    "    largest (normalized) entry above thresh\"\"\"\n",
    "    truth_vec = []\n",
    "    for vec in mat:\n",
    "        #print(vec)\n",
    "        #print(vec.shape)\n",
    "        am = np.argmax(vec)\n",
    "        #print(vec[am])\n",
    "        if np.max(vec) >= thresh:\n",
    "            truth_vec.append(True)\n",
    "        else:\n",
    "            truth_vec.append(False)\n",
    "        \n",
    "    return np.array(truth_vec)\n",
    "\n",
    "m = np.array([[0.98, 0, 0.02, 0],\n",
    "              [0, 1, 0, 0],\n",
    "              [0, 0, 0.4, 0.6], \n",
    "              [0, 0.2, 0, 0.8]])\n",
    "tv = soft_certain(m)\n",
    "print(tv)\n",
    "tv = detect_certain(m)\n",
    "print(tv)"
   ]
  },
  {
   "cell_type": "code",
   "execution_count": 4,
   "metadata": {},
   "outputs": [
    {
     "name": "stdout",
     "output_type": "stream",
     "text": [
      "(10000,) 0.6749\n",
      "human nonzero ent global:  0.5607\n",
      "human soft nonzero ent global:  0.3251\n"
     ]
    },
    {
     "data": {
      "image/png": "[encoded data removed]",
      "text/plain": [
       "<matplotlib.figure.Figure at 0x7f2d70037f28>"
      ]
     },
     "metadata": {},
     "output_type": "display_data"
    }
   ],
   "source": [
    "loadDir = 'base_predictions'\n",
    "saveDir = 'figures'\n",
    "# raw bins\n",
    "bins = np.load('{0}/human_bincounts.npy'.format(loadDir))\n",
    "#correct = np.argmax(bins, axis = 1)\n",
    "#print(correct[:5])\n",
    "#raw probabilities\n",
    "humans = bins / np.sum(bins, axis = 1)[:, np.newaxis]\n",
    "max_prob = np.max(humans, axis = 1)\n",
    "print(max_prob.shape, np.mean(max_prob >= 0.975))\n",
    "plt.hist(max_prob)\n",
    "#print(humans[:5], humans[:5].shape)\n",
    "print('human nonzero ent global: ', 1 - (detect_certain(bins)))\n",
    "print('human soft nonzero ent global: ', \n",
    "      1 - np.mean(soft_certain(humans)))\n",
    "#print(soft_certain(humans[:5]))\n",
    "# smoothed probabilities\n",
    "humans_smoothed = (bins + 1) / np.sum(bins, axis = 1)[:, np.newaxis]\n",
    "\n",
    "ordered_filenames = np.load('{0}/decoded_test_filename_order.npy'.format(loadDir))\n",
    "\n",
    "labels = ['P', 'A', 'B', 'C', 'De', 'Do', 'F', 'H', 'S', 'T']\n",
    "\n",
    "im_dir = '/home/battleday/Academic/Berkeley/Superman/local/images/train_set_combined'"
   ]
  },
  {
   "cell_type": "code",
   "execution_count": 15,
   "metadata": {},
   "outputs": [
    {
     "name": "stdout",
     "output_type": "stream",
     "text": [
      "['vgg_15_BN_64_train.npz', 'resnet_basic_110_train.npz', 'resnet_preact_bottleneck_164_train.npz', 'shake_shake_26_2x64d_SSI_cutout16_train.npz', 'densenet_BC_100_12_train.npz', 'wrn_28_10_train.npz', 'resnext_29_8x64d_train.npz', 'pyramidnet_basic_110_270_train.npz']\n",
      "['densenet_BC_100_12_train.npz', 'pyramidnet_basic_110_270_train.npz', 'resnet_basic_110_train.npz', 'resnet_preact_bottleneck_164_train.npz', 'resnext_29_8x64d_train.npz', 'shake_shake_26_2x64d_SSI_cutout16_train.npz', 'vgg_15_BN_64_train.npz', 'wrn_28_10_train.npz']\n",
      "['resnext_29_8x64d_test.npz', 'resnet_preact_bottleneck_164_test.npz', 'densenet_BC_100_12_test.npz', 'vgg_15_BN_64_test.npz', 'pyramidnet_basic_110_270_test.npz', 'wrn_28_10_test.npz', 'shake_shake_26_2x64d_SSI_cutout16_test.npz', 'resnet_basic_110_test.npz']\n",
      "['densenet_BC_100_12_test.npz', 'pyramidnet_basic_110_270_test.npz', 'resnet_basic_110_test.npz', 'resnet_preact_bottleneck_164_test.npz', 'resnext_29_8x64d_test.npz', 'shake_shake_26_2x64d_SSI_cutout16_test.npz', 'vgg_15_BN_64_test.npz', 'wrn_28_10_test.npz']\n"
     ]
    }
   ],
   "source": [
    "train_files = os.listdir('{0}/train/'.format(loadDir))\n",
    "print(train_files)\n",
    "train_files = sorted([m for m in train_files if m[-4:] == '.npz'])\n",
    "print(train_files)\n",
    "\n",
    "test_files = os.listdir('{0}/test/'.format(loadDir))\n",
    "print(test_files)\n",
    "test_files = sorted([p for p in test_files if p[-4:] == '.npz'])\n",
    "print(test_files)"
   ]
  },
  {
   "cell_type": "code",
   "execution_count": 42,
   "metadata": {},
   "outputs": [
    {
     "name": "stdout",
     "output_type": "stream",
     "text": [
      "['labels', 'logits', 'probs']\n",
      "(50000, 10) (50000, 10)\n",
      "(50000,)\n",
      "[6 9 9 4 1]\n",
      "50000\n",
      "[ True  True  True  True  True  True  True  True  True  True]\n",
      "[ True  True  True  True  True  True  True  True  True  True]\n",
      "De\n",
      "B\n",
      "P\n",
      "A\n",
      "P\n",
      "B\n",
      "F\n",
      "T\n",
      "A\n",
      "A\n"
     ]
    }
   ],
   "source": [
    "# test one output to prob\n",
    "test = np.load('{0}/train/{1}'.format(loadDir, train_files[4]))\n",
    "\n",
    "print(test.keys())\n",
    "print(test['logits'].shape, test['probs'].shape)\n",
    "guess = np.argmax(test['probs'], axis = 1)\n",
    "print(guess.shape)\n",
    "\n",
    "print(correct[:5])\n",
    "print(np.sum(test['labels'] == guess))\n",
    "\n",
    "for i in [0, -1]:\n",
    "    out = test['logits'][i, :]\n",
    "    probs = test['probs'][i, :]\n",
    "    soft = softmax(out)\n",
    "    print(np.abs(probs-soft)<0.001)\n",
    "\n",
    "for l in test['labels'][-10:]:\n",
    "    print(labels[l])"
   ]
  },
  {
   "cell_type": "code",
   "execution_count": 17,
   "metadata": {},
   "outputs": [
    {
     "name": "stdout",
     "output_type": "stream",
     "text": [
      "odict_keys(['densenet_BC_100_12_test', 'pyramidnet_basic_110_270_test', 'resnet_basic_110_test', 'resnet_preact_bottleneck_164_test', 'resnext_29_8x64d_test', 'shake_shake_26_2x64d_SSI_cutout16_test', 'vgg_15_BN_64_test', 'wrn_28_10_test'])\n"
     ]
    }
   ],
   "source": [
    "test_dict = collections.OrderedDict()\n",
    "for m in test_files:\n",
    "    raw = np.load('{0}/test/{1}'.format(loadDir, m))\n",
    "    model = m.split('.')[0]\n",
    "    test_dict[model] = {}\n",
    "    for prop in raw.keys(): \n",
    "        test_dict[model][prop] = raw[prop]\n",
    "    test_dict[model]['entropy'] = ent_fn(test_dict[model]['probs'])\n",
    "print(test_dict.keys())"
   ]
  },
  {
   "cell_type": "code",
   "execution_count": 18,
   "metadata": {},
   "outputs": [
    {
     "name": "stdout",
     "output_type": "stream",
     "text": [
      "odict_keys(['densenet_BC_100_12_train', 'pyramidnet_basic_110_270_train', 'resnet_basic_110_train', 'resnet_preact_bottleneck_164_train', 'resnext_29_8x64d_train', 'shake_shake_26_2x64d_SSI_cutout16_train', 'vgg_15_BN_64_train', 'wrn_28_10_train'])\n"
     ]
    }
   ],
   "source": [
    "train_dict = collections.OrderedDict()\n",
    "for m in train_files:\n",
    "    raw = np.load('{0}/train/{1}'.format(loadDir, m))\n",
    "    model = m.split('.')[0]\n",
    "    train_dict[model] = {}\n",
    "    for prop in raw.keys(): \n",
    "        train_dict[model][prop] = raw[prop]\n",
    "    train_dict[model]['entropy'] = ent_fn(train_dict[model]['probs'])\n",
    "print(train_dict.keys())\n",
    "\n"
   ]
  },
  {
   "cell_type": "code",
   "execution_count": 19,
   "metadata": {},
   "outputs": [
    {
     "name": "stdout",
     "output_type": "stream",
     "text": [
      "densenet_BC_100_12_test\n",
      "max ent:  1.52360081673 min ent:  2.96002024974e-12\n",
      "num errors: (438,) accuracy:  0.9562\n",
      "sba:  0.641552511416\n",
      "pyramidnet_basic_110_270_test\n",
      "max ent:  1.69210278988 min ent:  1.25211101931e-07\n",
      "num errors: (379,) accuracy:  0.9621\n",
      "sba:  0.622691292876\n",
      "resnet_basic_110_test\n",
      "max ent:  1.40216708183 min ent:  2.98569328983e-13\n",
      "num errors: (594,) accuracy:  0.9406\n",
      "sba:  0.631313131313\n",
      "resnet_preact_bottleneck_164_test\n",
      "max ent:  1.62994360924 min ent:  8.932707872e-12\n",
      "num errors: (572,) accuracy:  0.9428\n",
      "sba:  0.664335664336\n",
      "resnext_29_8x64d_test\n",
      "max ent:  1.74878668785 min ent:  4.98849210828e-08\n",
      "num errors: (354,) accuracy:  0.9646\n",
      "sba:  0.652542372881\n",
      "shake_shake_26_2x64d_SSI_cutout16_test\n",
      "max ent:  1.59434366226 min ent:  4.08348493908e-11\n",
      "num errors: (270,) accuracy:  0.973\n",
      "sba:  0.622222222222\n",
      "vgg_15_BN_64_test\n",
      "max ent:  1.58164250851 min ent:  8.34983360232e-10\n",
      "num errors: (682,) accuracy:  0.9318\n",
      "sba:  0.634897360704\n",
      "wrn_28_10_test\n",
      "max ent:  2.02981567383 min ent:  0.000231670826906\n",
      "num errors: (376,) accuracy:  0.9624\n",
      "sba:  0.622340425532\n",
      "max human ent:  2.09465482573 min human ent:  0.644315368066\n",
      "odict_keys(['densenet_BC_100_12_test', 'pyramidnet_basic_110_270_test', 'resnet_basic_110_test', 'resnet_preact_bottleneck_164_test', 'resnext_29_8x64d_test', 'shake_shake_26_2x64d_SSI_cutout16_test', 'vgg_15_BN_64_test', 'wrn_28_10_test'])\n"
     ]
    }
   ],
   "source": [
    "def sba(model_predictions, human_predictions):\n",
    "    \"\"\"Returns second best accuracy score (of wrong images)\"\"\"\n",
    "    total = model_predictions.shape[0]\n",
    "    right = 0\n",
    "    for i in np.arange(total):\n",
    "        msb = np.argsort(model_predictions[i])[-2] # takes second best\n",
    "        lab = np.argmax(human_predictions[i])\n",
    "        right += (msb == lab)\n",
    "    return right / total\n",
    "accuracies = []\n",
    "sbas = []\n",
    "test_dict = collections.OrderedDict()\n",
    "for m in test_files:\n",
    "    raw = np.load('{0}/test/{1}'.format(loadDir, m))\n",
    "    model = m.split('.')[0]\n",
    "    print(model)\n",
    "    test_dict[model] = {}\n",
    "    for prop in raw.keys(): \n",
    "        test_dict[model][prop] = raw[prop]\n",
    "    test_dict[model]['entropy'] = ent_fn(test_dict[model]['probs'])\n",
    "    print('max ent: ', np.max(test_dict[model]['entropy']),\n",
    "         'min ent: ', np.min(test_dict[model]['entropy']))\n",
    "    test_dict[model]['wrong_idx'] = np.where(np.argmax(test_dict[model]['probs'], axis=1) != test_dict[model]['labels'])[0]\n",
    "    test_dict[model]['sba'] = sba(test_dict[model]['probs'][test_dict[model]['wrong_idx']], humans[test_dict[model]['wrong_idx']])\n",
    "    test_dict[model]['accuracy'] = 1 - (np.shape(test_dict[model]['wrong_idx'])[0] / 10000)\n",
    "    print('num errors:', np.shape(test_dict[model]['wrong_idx']), 'accuracy: ', test_dict[model]['accuracy'])\n",
    "    print('sba: ', test_dict[model]['sba'])\n",
    "    accuracies.append(test_dict[model]['accuracy'])\n",
    "    sbas.append(test_dict[model]['sba'])\n",
    "\n",
    "human_ent = ent_fn(humans_smoothed)\n",
    "print('max human ent: ', np.max(human_ent),\n",
    "     'min human ent: ', np.min(human_ent))   \n",
    "print(test_dict.keys())"
   ]
  },
  {
   "cell_type": "code",
   "execution_count": 20,
   "metadata": {},
   "outputs": [
    {
     "data": {
      "text/plain": [
       "(-0.34231537703831916, 0.40653659601849201)"
      ]
     },
     "execution_count": 20,
     "metadata": {},
     "output_type": "execute_result"
    },
    {
     "data": {
      "image/png": "[encoded data removed]",
      "text/plain": [
       "<matplotlib.figure.Figure at 0x7f9a46ab3e80>"
      ]
     },
     "metadata": {},
     "output_type": "display_data"
    }
   ],
   "source": [
    "plt.scatter(accuracies, sbas)\n",
    "plt.xlabel('Accuracy')\n",
    "plt.ylabel('SBA')\n",
    "pr(accuracies, sbas)"
   ]
  },
  {
   "cell_type": "code",
   "execution_count": 75,
   "metadata": {},
   "outputs": [
    {
     "name": "stdout",
     "output_type": "stream",
     "text": [
      "(10000, 10) [3 8 8 ..., 5 1 7]\n",
      "[3 8 8 ..., 5 1 7]\n",
      "(10000,)\n",
      "(2000,) [2405 9227 4965 4740 7099] [  4.69100720e-04   6.28867012e-04   8.15634790e-04 ...,   9.85251486e-01\n",
      "   9.85255718e-01   9.85256135e-01]\n",
      "0.609\n"
     ]
    }
   ],
   "source": [
    "averageTestProb = []\n",
    "for key, value in test_dict.items():\n",
    "    correct = value['labels']\n",
    "    averageTestProb.append(value['probs'])\n",
    "averageTestProb = np.mean(averageTestProb, axis=0)\n",
    "print(averageTestProb.shape, np.argmax(averageTestProb, axis = 1))\n",
    "print(correct)\n",
    "correctProb = averageTestProb[np.arange(correct.shape[0]), correct]\n",
    "print(correctProb.shape)\n",
    "\n",
    "top = np.argsort(correctProb)[:2000]\n",
    "print(top.shape, top[:5], correctProb[top[5:]])\n",
    "##print(humans[top])\n",
    "print(1 - np.mean(soft_certain(humans[top])))"
   ]
  },
  {
   "cell_type": "code",
   "execution_count": 78,
   "metadata": {},
   "outputs": [
    {
     "name": "stdout",
     "output_type": "stream",
     "text": [
      "(10000,)\n",
      "(0.37490304358135768, 0.0)\n",
      "(0.37490304358135773, 0.0)\n",
      "(10000,)\n"
     ]
    }
   ],
   "source": [
    "averageEnt = []\n",
    "for key, value in test_dict.items():\n",
    "    averageEnt.append(value['entropy'])\n",
    "averageEnt = np.mean(averageEnt, axis=0)\n",
    "print(averageEnt.shape)\n",
    "print(pr(averageEnt, human_ent))\n",
    "print(pr(averageEnt[top], human_ent[top]))\n",
    "num_ims = 5\n",
    "top = np.argsort(averageEnt)\n",
    "print(top.shape)"
   ]
  },
  {
   "cell_type": "code",
   "execution_count": null,
   "metadata": {
    "collapsed": true
   },
   "outputs": [],
   "source": [
    "def fig_fn(title, save_path, ims, models,\n",
    "           num_ims, added_rows = 4,\n",
    "           base_rows = 3):\n",
    "    \"\"\"still a bunch of other things defined above\n",
    "    that aren't in here\"\"\"\n",
    "    extended_ims = ims.copy()[-(num_ims * (added_rows -1)):][::-1]\n",
    "    ims = ims.copy()[-num_ims:][::-1]\n",
    "    \n",
    "    num_models = len(models.keys())\n",
    "    print('num models: ', num_models)\n",
    "    \n",
    "    fig = plt.figure(figsize=((num_ims) * 2, added_rows + num_models + base_rows)) \n",
    "    gs = gridspec.GridSpec(added_rows + num_models + base_rows, num_ims)\n",
    "\n",
    "    for i in np.arange(num_ims * (added_rows - 1)):\n",
    "        r, c = np.unravel_index(i, (added_rows - 1, num_ims))\n",
    "        #print(r, c)\n",
    "        ax = plt.subplot(gs[r, c])\n",
    "        im = extended_ims[i]\n",
    "        im_name = str(im)\n",
    "        ax.set_xticks([])\n",
    "        ax.set_yticks([])\n",
    "        img = mpimg.imread(im_dir + '/' + im_name + '.png')\n",
    "        mpimg.imsave(saveDir + '/' + im_name + '.png', img)\n",
    "        #ax_im_b.set_title('High certainty image', fontsize = 20)\n",
    "        ax.imshow(img)\n",
    "\n",
    "\n",
    "    fig.suptitle(title, fontsize = 20, fontweight='bold')\n",
    "    for i in np.arange(num_ims):\n",
    "        im = ims[i]\n",
    "        ax_im_b = plt.subplot(gs[added_rows: added_rows + 3, i]) # size of im\n",
    "        im_name_b = str(im)\n",
    "        ax_im_b.xaxis.set_ticklabels([])\n",
    "        ax_im_b.set_xticks([])\n",
    "        ax_im_b.set_yticks([])\n",
    "        #ax_im_b.set_title(labels[0], fontsize = 12)\n",
    "        ax_im_b.yaxis.set_ticklabels([])\n",
    "        img_b = mpimg.imread(im_dir + '/' + im_name_b + '.png')\n",
    "        #ax_im_b.set_title('High certainty image', fontsize = 20)\n",
    "        ax_im_b.imshow(img_b)\n",
    "\n",
    "        for m, model in enumerate(models.keys()):\n",
    "            im_guesses = models[model]['probs'][im]\n",
    "            #print(im_guesses)\n",
    "            ax = plt.subplot(gs[added_rows + 3 + m, i])\n",
    "            ax.bar(np.arange(10), im_guesses) #, align = 'left')\n",
    "            ax.set_xlim([-1, 10])\n",
    "            ax.set_ylim([0, 1]) \n",
    "\n",
    "            if ax.is_first_col():\n",
    "                ax.set_ylabel(model[:5], fontsize = 12)\n",
    "            else:\n",
    "                ax.yaxis.set_ticks([])\n",
    "\n",
    "            ax.xaxis.set_ticks([])\n",
    "\n",
    "            if ax.is_last_row():\n",
    "                ax.xaxis.set_ticks(np.arange(len(labels)))\n",
    "                ax.xaxis.set_ticklabels(labels)\n",
    "                plt.xticks(rotation = -45, ha='center')\n",
    "\n",
    "    plt.savefig(save_path + '/' + title + '.png')\n",
    "\n",
    "fig_fn('test_entropy_fig', saveDir, top, train_dict, \n",
    "      5)   "
   ]
  },
  {
   "cell_type": "code",
   "execution_count": null,
   "metadata": {
    "collapsed": true
   },
   "outputs": [],
   "source": []
  }
 ],
 "metadata": {
  "kernelspec": {
   "display_name": "Python 3",
   "language": "python",
   "name": "python3"
  },
  "language_info": {
   "codemirror_mode": {
    "name": "ipython",
    "version": 3
   },
   "file_extension": ".py",
   "mimetype": "text/x-python",
   "name": "python",
   "nbconvert_exporter": "python",
   "pygments_lexer": "ipython3",
   "version": "3.6.3"
  }
 },
 "nbformat": 4,
 "nbformat_minor": 2
}
