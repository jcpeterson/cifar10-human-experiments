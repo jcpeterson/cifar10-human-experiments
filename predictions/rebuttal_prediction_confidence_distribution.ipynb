{
 "cells": [
  {
   "cell_type": "code",
   "execution_count": 44,
   "metadata": {},
   "outputs": [],
   "source": [
    "%matplotlib inline\n",
    "import os, sys, gc\n",
    "import numpy as np\n",
    "import matplotlib.pyplot as plt\n",
    "from matplotlib.patches import Patch\n",
    "from scipy.stats import pearsonr "
   ]
  },
  {
   "cell_type": "code",
   "execution_count": 45,
   "metadata": {},
   "outputs": [
    {
     "name": "stdout",
     "output_type": "stream",
     "text": [
      "potential perm idx: [0 1 2 3 4]\n",
      "potential perm idx: [9394  898 2398 5906 2343]\n"
     ]
    }
   ],
   "source": [
    "def around(mat, dp = 3):\n",
    "    return np.around(mat, dp)\n",
    "np.random.seed(0)\n",
    "\n",
    "\n",
    "potentialPermIdx =  np.arange(10000)\n",
    "print('potential perm idx: {0}'.format(potentialPermIdx[:5]))\n",
    "np.random.shuffle(potentialPermIdx)\n",
    "print('potential perm idx: {0}'.format(potentialPermIdx[:5]))\n",
    "gtLabels = np.squeeze(np.int_(np.load('test_set_cifar_labels.npy')))\n",
    "reorderedGT = gtLabels[potentialPermIdx]\n",
    "\n",
    "loadDir = 'preds_scores_9k'\n",
    "#print(os.listdir(loadDir))\n",
    "model = 'shake_shake_26_2x64d_SSI_cutout16'\n",
    "\n",
    "\n",
    "\n",
    "control = np.load('{0}/{1}_True.npz'.format(loadDir, model))\n",
    "controlTop = np.argmax(control['probs'], axis = 1)\n",
    "controlLabels = np.argmax(control['labels'], axis = 1)\n",
    "controlLabelsHard = np.argmax(control['hard_labels'], axis = 1)\n",
    "actual = np.load('{0}/{1}_False.npz'.format(loadDir, model))\n",
    "actualTop = np.argmax(actual['probs'], axis = 1)\n",
    "actualLabels = np.argmax(actual['labels'], axis = 1)\n",
    "actualLabelsHard = np.argmax(actual['hard_labels'], axis = 1)\n",
    "humans = np.load('human_bincounts.npy')\n",
    "humans = humans / np.sum(humans, axis = 1)[:, np.newaxis]\n",
    "humanTop = np.argmax(humans, axis = 1)"
   ]
  },
  {
   "cell_type": "markdown",
   "metadata": {},
   "source": [
    "print(list(control.keys()))\n",
    "\n",
    "print(around(control['labels'][:5]), '\\n', around(humans[:5]), '\\n',\n",
    "     around(actual['labels'][:5]))\n",
    "\n",
    "print(controlLabels[:5], '\\n', humanTop[:5], '\\n',\n",
    "     actualLabels[:5])\n",
    "\n",
    "print(humanTop[:5], '\\n',\n",
    "     gtLabels[:5])\n",
    "\n",
    "print(controlLabels[:5], '\\n', controlLabelsHard[:5], '\\n',\n",
    "     actualLabels[:5], '\\n', actualLabelsHard[:5],\n",
    "      '\\n', gtLabels[potentialPermIdx][:5], '\\n',\n",
    "     humanTop[potentialPermIdx][:5])"
   ]
  },
  {
   "cell_type": "code",
   "execution_count": 46,
   "metadata": {},
   "outputs": [
    {
     "name": "stdout",
     "output_type": "stream",
     "text": [
      "control_soft_labels\n",
      "control_hard_labels\n",
      "control_wrong_hard\n",
      "control_correct_hard\n",
      "actual_soft_labels\n",
      "actual_hard_labels\n",
      "actual_wrong_hard\n",
      "actual_correct_hard\n",
      "{'control_soft_labels': 0.8746086487506933, 'control_hard_labels': 0.8720925631026378, 'control_wrong_hard': -0.3300961985269418, 'control_correct_hard': 1.0, 'actual_soft_labels': 0.8913918331742259, 'actual_hard_labels': 0.8889240382158908, 'actual_wrong_hard': -0.31655004952852195, 'actual_correct_hard': 1.0}\n"
     ]
    }
   ],
   "source": [
    "wrongIdxCon = np.where(controlTop != reorderedGT)[0]\n",
    "correctIdxCon = np.where(controlTop == reorderedGT)[0]\n",
    "wrongIdxAct = np.where(actualTop != reorderedGT)[0]\n",
    "correctIdxAct = np.where(actualTop == reorderedGT)[0]\n",
    "\n",
    "keys = ['control_soft_labels', 'control_hard_labels', 'control_wrong_hard', 'control_correct_hard',\n",
    "       'actual_soft_labels', 'actual_hard_labels', 'actual_wrong_hard', 'actual_correct_hard']\n",
    "candidates = [controlTop, controlTop, controlTop[wrongIdxCon], controlTop[correctIdxCon],\n",
    "             actualTop, actualTop, actualTop[wrongIdxAct], actualTop[correctIdxAct]]\n",
    "labels = [controlLabels, controlLabelsHard, controlLabelsHard[wrongIdxCon], controlLabelsHard[correctIdxCon],\n",
    "         actualLabels, actualLabelsHard, actualLabelsHard[wrongIdxAct], actualLabelsHard[correctIdxAct]]\n",
    "\n",
    "corrDict = {}\n",
    "for k, c, l in zip(keys, candidates, labels):\n",
    "    print(k)\n",
    "    corrDict[k] = pearsonr(c, l)[0]\n",
    "\n",
    "\n",
    "\n",
    "print(corrDict)"
   ]
  },
  {
   "cell_type": "code",
   "execution_count": 47,
   "metadata": {},
   "outputs": [],
   "source": [
    "wrongConCon = np.mean(np.max(control['probs'][wrongIdxCon], axis = 1))\n",
    "correctConCon = np.mean(np.max(control['probs'][correctIdxCon], axis = 1))\n",
    "wrongActCon = np.mean(np.max(actual['probs'][wrongIdxAct], axis = 1))\n",
    "correctActCon = np.mean(np.max(actual['probs'][correctIdxAct], axis = 1))"
   ]
  },
  {
   "cell_type": "code",
   "execution_count": 50,
   "metadata": {},
   "outputs": [
    {
     "name": "stdout",
     "output_type": "stream",
     "text": [
      "[0.95962644, 0.935319] [0.7656197, 0.6850956]\n"
     ]
    },
    {
     "data": {
      "image/png": "[encoded data removed]",
      "text/plain": [
       "<Figure size 432x288 with 1 Axes>"
      ]
     },
     "metadata": {
      "needs_background": "light"
     },
     "output_type": "display_data"
    }
   ],
   "source": [
    "def fig_fn(dataSeries1, dataSeries2):\n",
    "    # set width of bar\n",
    "    barWidth = 0.25\n",
    "\n",
    "    # set height of bar\n",
    "    print(dataSeries1, dataSeries2)\n",
    "    # Set position of bar on X axis\n",
    "    r1 = np.arange(len(dataSeries1))\n",
    "    r2 = [x + barWidth for x in r1]\n",
    " \n",
    "    # Make the plot\n",
    "    plt.bar(r1, dataSeries1, color=['blue', 'red'], width=barWidth, edgecolor='k', label='Correct images')\n",
    "    plt.bar(r2, dataSeries2, color=['cornflowerblue', 'salmon'], width=barWidth, edgecolor='k', label='Incorrect images')\n",
    "    plt.ylabel('Mean confidence')\n",
    "    plt.xlabel('Condition')\n",
    "    # Add xticks'Condition on the middle of the group bars\n",
    "    plt.xticks([r + barWidth/2 for r in range(len(dataSeries1))], ['Hard', 'Soft'])\n",
    "\n",
    "    legend_elements = [\n",
    "                Patch(facecolor='blue', edgecolor='k',\n",
    "                         label='Hard Correct'),\n",
    "        Patch(facecolor='cornflowerblue', edgecolor='k',\n",
    "                         label='Hard Incorrect'),\n",
    "                   Patch(facecolor='red', edgecolor='k',\n",
    "                         label='Soft Correct'),\n",
    "        Patch(facecolor='salmon', edgecolor='k',\n",
    "                         label='Soft Incorrect')\n",
    "\n",
    "    ]\n",
    "    # Create legend & Show graphic\n",
    "    plt.legend(handles=legend_elements, bbox_to_anchor=(1.0, 1.0))\n",
    "    plt.show()\n",
    "fig_fn([correctConCon, correctActCon], [wrongConCon,  wrongActCon])"
   ]
  },
  {
   "cell_type": "code",
   "execution_count": null,
   "metadata": {},
   "outputs": [],
   "source": []
  }
 ],
 "metadata": {
  "kernelspec": {
   "display_name": "Python 3",
   "language": "python",
   "name": "python3"
  },
  "language_info": {
   "codemirror_mode": {
    "name": "ipython",
    "version": 3
   },
   "file_extension": ".py",
   "mimetype": "text/x-python",
   "name": "python",
   "nbconvert_exporter": "python",
   "pygments_lexer": "ipython3",
   "version": "3.7.3"
  }
 },
 "nbformat": 4,
 "nbformat_minor": 2
}
