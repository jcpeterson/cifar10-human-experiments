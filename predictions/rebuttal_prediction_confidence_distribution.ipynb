{
 "cells": [
  {
   "cell_type": "code",
   "execution_count": 1,
   "metadata": {},
   "outputs": [],
   "source": [
    "%matplotlib inline\n",
    "import os, sys, gc\n",
    "import numpy as np\n",
    "import matplotlib.pyplot as plt\n",
    "from scipy.stats import pearsonr "
   ]
  },
  {
   "cell_type": "code",
   "execution_count": 6,
   "metadata": {},
   "outputs": [
    {
     "name": "stdout",
     "output_type": "stream",
     "text": [
      "['labels', 'logits', 'probs']\n",
      "[[0.    0.    0.    0.    0.    1.    0.    0.    0.    0.   ]\n",
      " [0.    0.    0.02  0.9   0.    0.08  0.    0.    0.    0.   ]\n",
      " [0.    0.019 0.    0.    0.    0.    0.    0.    0.962 0.019]\n",
      " [0.    0.    0.    0.    1.    0.    0.    0.    0.    0.   ]\n",
      " [0.    0.    0.    0.    0.    0.    1.    0.    0.    0.   ]] \n",
      " [[0.    0.02  0.02  0.941 0.    0.02  0.    0.    0.    0.   ]\n",
      " [0.    0.    0.02  0.    0.    0.    0.    0.    0.98  0.   ]\n",
      " [0.    0.    0.    0.    0.    0.    0.    0.    1.    0.   ]\n",
      " [0.745 0.    0.157 0.    0.02  0.    0.02  0.    0.039 0.02 ]\n",
      " [0.    0.    0.02  0.    0.    0.    0.98  0.    0.    0.   ]] \n",
      " [[0.    0.    0.    0.    0.    1.    0.    0.    0.    0.   ]\n",
      " [0.    0.    0.02  0.9   0.    0.08  0.    0.    0.    0.   ]\n",
      " [0.    0.019 0.    0.    0.    0.    0.    0.    0.962 0.019]\n",
      " [0.    0.    0.    0.    1.    0.    0.    0.    0.    0.   ]\n",
      " [0.    0.    0.    0.    0.    0.    1.    0.    0.    0.   ]]\n",
      "[5 3 8 4 6] \n",
      " [3 8 8 0 6] \n",
      " [5 3 8 4 6]\n"
     ]
    }
   ],
   "source": [
    "def around(mat, dp = 3):\n",
    "    return np.around(mat, dp)\n",
    "\n",
    "def array_match_fn(array1, array2):\n",
    "    for row in array1:\n",
    "        \n",
    "\n",
    "loadDir = 'preds_scores_9k'\n",
    "#print(os.listdir(loadDir))\n",
    "model = 'shake_shake_26_2x64d_SSI_cutout16'\n",
    "\n",
    "control = np.load('{0}/{1}_False.npz'.format(loadDir, model))\n",
    "controlTop = np.argmax(control['probs'], axis = 1)\n",
    "controlLabels = np.argmax(control['labels'], axis = 1)\n",
    "\n",
    "actual = np.load('{0}/{1}_True.npz'.format(loadDir, model))\n",
    "actualTop = np.argmax(actual['probs'], axis = 1)\n",
    "actualLabels = np.argmax(actual['labels'], axis = 1)\n",
    "\n",
    "humans = np.load('human_bincounts.npy')\n",
    "humans = humans / np.sum(humans, axis = 1)[:, np.newaxis]\n",
    "humanTop = np.argmax(humans, axis = 1)\n",
    "\n",
    "print(list(control.keys()))\n",
    "\n",
    "print(around(control['labels'][:5]), '\\n', around(humans[:5]), '\\n',\n",
    "     around(actual['labels'][:5]))\n",
    "\n",
    "print(controlLabels[:5], '\\n', humanTop[:5], '\\n',\n",
    "     actualLabels[:5])\n",
    "\n"
   ]
  },
  {
   "cell_type": "code",
   "execution_count": 7,
   "metadata": {},
   "outputs": [
    {
     "name": "stdout",
     "output_type": "stream",
     "text": [
      "{'corCon': 0.8913918331742259, 'corConH': 0.010310335875125292, 'actCon': 0.8746086487506933, 'actConH': 0.003601676147718379}\n"
     ]
    }
   ],
   "source": [
    "corrDict = {}\n",
    "corrDict['corCon'] = pearsonr(controlTop, controlLabels)[0]\n",
    "corrDict['corConH'] = pearsonr(controlTop, humanTop)[0]\n",
    "corrDict['actCon'] = pearsonr(actualTop, actualLabels)[0]\n",
    "corrDict['actConH'] = pearsonr(actualTop, humanTop)[0]\n",
    "\n",
    "print(corrDict)"
   ]
  },
  {
   "cell_type": "code",
   "execution_count": null,
   "metadata": {},
   "outputs": [],
   "source": []
  }
 ],
 "metadata": {
  "kernelspec": {
   "display_name": "Python 3",
   "language": "python",
   "name": "python3"
  },
  "language_info": {
   "codemirror_mode": {
    "name": "ipython",
    "version": 3
   },
   "file_extension": ".py",
   "mimetype": "text/x-python",
   "name": "python",
   "nbconvert_exporter": "python",
   "pygments_lexer": "ipython3",
   "version": "3.7.3"
  }
 },
 "nbformat": 4,
 "nbformat_minor": 2
}
