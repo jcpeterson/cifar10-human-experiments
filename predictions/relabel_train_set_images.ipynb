{
 "cells": [
  {
   "cell_type": "code",
   "execution_count": 10,
   "metadata": {
    "collapsed": true
   },
   "outputs": [],
   "source": [
    "%matplotlib inline\n",
    "import numpy as np\n",
    "import pickle\n",
    "import os, gc\n",
    "from PIL import Image\n",
    "import scipy.misc"
   ]
  },
  {
   "cell_type": "code",
   "execution_count": 11,
   "metadata": {
    "collapsed": true
   },
   "outputs": [],
   "source": [
    "w_dir = '/home/battleday/Academic/Berkeley/Superman/local/images'\n",
    "save_dir = w_dir + '/train_set_combined'"
   ]
  },
  {
   "cell_type": "code",
   "execution_count": 12,
   "metadata": {
    "collapsed": true
   },
   "outputs": [],
   "source": [
    "def unpickle(file):\n",
    "    with open(file, 'rb') as fo:\n",
    "        dict = pickle.load(fo, encoding='bytes')\n",
    "    return dict\n",
    "\n",
    "def spickle(dic, file):\n",
    "    with open(file, 'wb') as fo:\n",
    "        #pickle.dump(dic, fo, encoding='bytes') is the encoding arg here essential?\n",
    "        pickle.dump(dic, fo)\n",
    "    return dict\n",
    "\n",
    "def reshape_row_into_array(row):\n",
    "    \"\"\"Takes a row-based representation of an image (Each row of the array stores a 32x32 colour image. \n",
    "    The first 1024 entries contain the red channel values, the next 1024 the green, and the final 1024 the blue. \n",
    "    The image is stored in row-major order, so that the first 32 entries of the array \n",
    "    are the red channel values of the first row of the image.)\"\"\"\n",
    "    num_channels = 3\n",
    "    img_size = 32\n",
    "    row_float = np.array(row, dtype=float) / 255.0\n",
    "    #print(row_float.shape)\n",
    "    im_arr = row_float.reshape([num_channels, img_size, img_size])\n",
    "    #print(im_arr.shape)\n",
    "    im_arr = im_arr.transpose([1, 2, 0])\n",
    "    #print(im_arr.shape)\n",
    "    return im_arr\n",
    "\n",
    "def save_im(row, path):\n",
    "    ar = reshape_row_into_array(row)\n",
    "    scipy.misc.imsave(path, ar) # mode given in name\n",
    "    "
   ]
  },
  {
   "cell_type": "code",
   "execution_count": 13,
   "metadata": {},
   "outputs": [
    {
     "name": "stdout",
     "output_type": "stream",
     "text": [
      "1\n",
      "2\n",
      "3\n",
      "4\n",
      "5\n"
     ]
    }
   ],
   "source": [
    "for i in np.arange(1, 6):\n",
    "    print(i)\n",
    "    gen_dict = unpickle('{0}/data_batch_{1}'.format(w_dir, i))\n",
    "    data = gen_dict[b'data']\n",
    "    \n",
    "    for ii, row in enumerate(data):\n",
    "        identifier = ((i-1) * 10000) + ii\n",
    "        save_im(row, save_dir + '/' + str(identifier) + '.png')\n",
    "    \n",
    "    gc.collect()\n",
    "    gc.collect()\n",
    "    gc.collect()\n",
    "#print(new_batch_labels)"
   ]
  },
  {
   "cell_type": "code",
   "execution_count": 14,
   "metadata": {
    "collapsed": true
   },
   "outputs": [],
   "source": [
    "# read matrix row by row and save image output\n",
    "\n",
    "\n",
    "    "
   ]
  }
 ],
 "metadata": {
  "kernelspec": {
   "display_name": "Python 3",
   "language": "python",
   "name": "python3"
  },
  "language_info": {
   "codemirror_mode": {
    "name": "ipython",
    "version": 3
   },
   "file_extension": ".py",
   "mimetype": "text/x-python",
   "name": "python",
   "nbconvert_exporter": "python",
   "pygments_lexer": "ipython3",
   "version": "3.6.3"
  }
 },
 "nbformat": 4,
 "nbformat_minor": 2
}
