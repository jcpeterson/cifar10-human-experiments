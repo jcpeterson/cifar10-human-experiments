{
 "cells": [
  {
   "cell_type": "code",
   "execution_count": 8,
   "metadata": {},
   "outputs": [],
   "source": [
    "##########################################################################\n",
    "#   IMPORT BLOCK                                                         #\n",
    "##########################################################################\n",
    "import gc \n",
    "\n",
    "import torch\n",
    "import torch.nn as nn\n",
    "import torch.nn.functional as F \n",
    "from torch.autograd import Variable\n",
    "import subprocess\n",
    "import time \n",
    "\n",
    "# fxn taken from https://discuss.pytorch.org/t/memory-leaks-in-trans-conv/12492\n",
    "def get_gpu_memory_map():   \n",
    "    result = subprocess.check_output(\n",
    "        [\n",
    "            'nvidia-smi', '--query-gpu=memory.used',\n",
    "            '--format=csv,nounits,noheader'\n",
    "        ])\n",
    "    \n",
    "    return float(result)\n",
    "\n",
    "\n",
    "##########################################################################\n",
    "#   CLASS BLOCK                                                          #\n",
    "##########################################################################\n",
    "\n",
    "class ClassA(object):\n",
    "    def __init__(self):\n",
    "        self.nets = [] \n",
    "        \n",
    "class BadSubclass(ClassA):\n",
    "    def __init__(self, classifier):\n",
    "        super(BadSubclass, self).__init__()\n",
    "        self.classifier = classifier \n",
    "        self.nets.append(self.classifier)\n",
    "        \n",
    "    def forward(self, inp):\n",
    "        return self.classifier.forward(inp).squeeze()            \n",
    "    \n",
    "class GoodSubclass(BadSubclass):\n",
    "    def __init__(self, classifier):\n",
    "        super(BadSubclass, self).__init__()\n",
    "        self.classifier = classifier\n",
    "        self.nets.append(self.classifier)\n",
    "        \n",
    "    def forward(self, inp):\n",
    "        return torch.sum(super(GoodSubclass, self).forward(inp))\n",
    "        \n",
    "        \n",
    "class MyModel(nn.Module):\n",
    "    def __init__(self):\n",
    "        super(MyModel, self).__init__()\n",
    "        self.fc1 = nn.Linear(1000, 10000)\n",
    "        self.fc2 = nn.Linear(10000, 1000)\n",
    "        self.fcs = [self.fc1, self.fc2]\n",
    "        \n",
    "    def forward(self, x):\n",
    "        for fc in self.fcs:\n",
    "            x = fc(x)\n",
    "            x = F.relu(x)\n",
    "        return x # 1000 dimension output \n",
    "\n",
    "    \n",
    "\n",
    "##########################################################################\n",
    "#   EXAMPLE BLOCK                                                        #\n",
    "##########################################################################\n",
    "\n",
    "def memout_example(bad_or_good):\n",
    "    # reuse all the code except for which subclass we use \n",
    "    # and which grad technique we use \n",
    "    \n",
    "    \n",
    "    assert bad_or_good in ['bad', 'good']\n",
    "    if bad_or_good == 'bad':\n",
    "        subclass = BadSubclass \n",
    "        grad_method = lambda output, inp: torch.autograd.backward(\n",
    "                                          [output], grad_variables=[inp])\n",
    "    else:\n",
    "        subclass = GoodSubclass \n",
    "        grad_method = lambda output, inp: output.backward() \n",
    "            \n",
    "    \n",
    "    # Loop through, pick a random input, run it through model\n",
    "    # then compute gradients, then clean up as much as possible \n",
    "        \n",
    "    for i in xrange(10):    \n",
    "        print \"LOOP: (%s) | BASE STATE\" % i, get_gpu_memory_map()\n",
    "        x = Variable(torch.randn(1, 1000)).cuda()\n",
    "        model = MyModel().cuda()\n",
    "\n",
    "        example = subclass(model)\n",
    "        out = example.forward(x)\n",
    "        grad_method(out, x)\n",
    "        print \"LOOP: (%s) | PEAK STATE\" % i, get_gpu_memory_map()\n",
    "        del model \n",
    "        del example\n",
    "        del out \n",
    "        del x \n",
    "        gc.collect()\n",
    "        torch.cuda.empty_cache()\n",
    "        time.sleep(5)\n",
    "\n",
    "        print \"LOOP: (%s) | OUT  STATE\" % i, get_gpu_memory_map()   \n",
    "        print '-' * 29 # pretty prints\n",
    "\n"
   ]
  },
  {
   "cell_type": "code",
   "execution_count": 9,
   "metadata": {},
   "outputs": [
    {
     "name": "stdout",
     "output_type": "stream",
     "text": [
      "LOOP: (0) | BASE STATE 5307.0\n",
      "LOOP: (0) | PEAK STATE 6453.0\n",
      "LOOP: (0) | OUT  STATE 6071.0\n",
      "-----------------------------\n",
      "LOOP: (1) | BASE STATE 6071.0\n",
      "LOOP: (1) | PEAK STATE 7217.0\n"
     ]
    },
    {
     "ename": "KeyboardInterrupt",
     "evalue": "",
     "output_type": "error",
     "traceback": [
      "\u001b[0;31m---------------------------------------------------------------------------\u001b[0m",
      "\u001b[0;31mKeyboardInterrupt\u001b[0m                         Traceback (most recent call last)",
      "\u001b[0;32m<ipython-input-9-89d7d39c61b2>\u001b[0m in \u001b[0;36m<module>\u001b[0;34m()\u001b[0m\n\u001b[0;32m----> 1\u001b[0;31m \u001b[0mmemout_example\u001b[0m\u001b[0;34m(\u001b[0m\u001b[0;34m'bad'\u001b[0m\u001b[0;34m)\u001b[0m\u001b[0;34m\u001b[0m\u001b[0m\n\u001b[0m",
      "\u001b[0;32m<ipython-input-8-6929ec65fbb3>\u001b[0m in \u001b[0;36mmemout_example\u001b[0;34m(bad_or_good)\u001b[0m\n\u001b[1;32m    102\u001b[0m         \u001b[0mgc\u001b[0m\u001b[0;34m.\u001b[0m\u001b[0mcollect\u001b[0m\u001b[0;34m(\u001b[0m\u001b[0;34m)\u001b[0m\u001b[0;34m\u001b[0m\u001b[0m\n\u001b[1;32m    103\u001b[0m         \u001b[0mtorch\u001b[0m\u001b[0;34m.\u001b[0m\u001b[0mcuda\u001b[0m\u001b[0;34m.\u001b[0m\u001b[0mempty_cache\u001b[0m\u001b[0;34m(\u001b[0m\u001b[0;34m)\u001b[0m\u001b[0;34m\u001b[0m\u001b[0m\n\u001b[0;32m--> 104\u001b[0;31m         \u001b[0mtime\u001b[0m\u001b[0;34m.\u001b[0m\u001b[0msleep\u001b[0m\u001b[0;34m(\u001b[0m\u001b[0;36m5\u001b[0m\u001b[0;34m)\u001b[0m\u001b[0;34m\u001b[0m\u001b[0m\n\u001b[0m\u001b[1;32m    105\u001b[0m \u001b[0;34m\u001b[0m\u001b[0m\n\u001b[1;32m    106\u001b[0m         \u001b[0;32mprint\u001b[0m \u001b[0;34m\"LOOP: (%s) | OUT  STATE\"\u001b[0m \u001b[0;34m%\u001b[0m \u001b[0mi\u001b[0m\u001b[0;34m,\u001b[0m \u001b[0mget_gpu_memory_map\u001b[0m\u001b[0;34m(\u001b[0m\u001b[0;34m)\u001b[0m\u001b[0;34m\u001b[0m\u001b[0m\n",
      "\u001b[0;31mKeyboardInterrupt\u001b[0m: "
     ]
    }
   ],
   "source": [
    "memout_example('bad')"
   ]
  },
  {
   "cell_type": "code",
   "execution_count": 10,
   "metadata": {},
   "outputs": [
    {
     "name": "stdout",
     "output_type": "stream",
     "text": [
      "LOOP: (0) | BASE STATE 6835.0\n",
      "LOOP: (0) | PEAK STATE 7639.0\n",
      "LOOP: (0) | OUT  STATE 6453.0\n",
      "-----------------------------\n",
      "LOOP: (1) | BASE STATE 6453.0\n",
      "LOOP: (1) | PEAK STATE 7639.0\n",
      "LOOP: (1) | OUT  STATE 6453.0\n",
      "-----------------------------\n",
      "LOOP: (2) | BASE STATE 6453.0\n",
      "LOOP: (2) | PEAK STATE 7639.0\n"
     ]
    },
    {
     "ename": "KeyboardInterrupt",
     "evalue": "",
     "output_type": "error",
     "traceback": [
      "\u001b[0;31m---------------------------------------------------------------------------\u001b[0m",
      "\u001b[0;31mKeyboardInterrupt\u001b[0m                         Traceback (most recent call last)",
      "\u001b[0;32m<ipython-input-10-cbab37a24d56>\u001b[0m in \u001b[0;36m<module>\u001b[0;34m()\u001b[0m\n\u001b[0;32m----> 1\u001b[0;31m \u001b[0mmemout_example\u001b[0m\u001b[0;34m(\u001b[0m\u001b[0;34m'good'\u001b[0m\u001b[0;34m)\u001b[0m\u001b[0;34m\u001b[0m\u001b[0m\n\u001b[0m",
      "\u001b[0;32m<ipython-input-8-6929ec65fbb3>\u001b[0m in \u001b[0;36mmemout_example\u001b[0;34m(bad_or_good)\u001b[0m\n\u001b[1;32m    102\u001b[0m         \u001b[0mgc\u001b[0m\u001b[0;34m.\u001b[0m\u001b[0mcollect\u001b[0m\u001b[0;34m(\u001b[0m\u001b[0;34m)\u001b[0m\u001b[0;34m\u001b[0m\u001b[0m\n\u001b[1;32m    103\u001b[0m         \u001b[0mtorch\u001b[0m\u001b[0;34m.\u001b[0m\u001b[0mcuda\u001b[0m\u001b[0;34m.\u001b[0m\u001b[0mempty_cache\u001b[0m\u001b[0;34m(\u001b[0m\u001b[0;34m)\u001b[0m\u001b[0;34m\u001b[0m\u001b[0m\n\u001b[0;32m--> 104\u001b[0;31m         \u001b[0mtime\u001b[0m\u001b[0;34m.\u001b[0m\u001b[0msleep\u001b[0m\u001b[0;34m(\u001b[0m\u001b[0;36m5\u001b[0m\u001b[0;34m)\u001b[0m\u001b[0;34m\u001b[0m\u001b[0m\n\u001b[0m\u001b[1;32m    105\u001b[0m \u001b[0;34m\u001b[0m\u001b[0m\n\u001b[1;32m    106\u001b[0m         \u001b[0;32mprint\u001b[0m \u001b[0;34m\"LOOP: (%s) | OUT  STATE\"\u001b[0m \u001b[0;34m%\u001b[0m \u001b[0mi\u001b[0m\u001b[0;34m,\u001b[0m \u001b[0mget_gpu_memory_map\u001b[0m\u001b[0;34m(\u001b[0m\u001b[0;34m)\u001b[0m\u001b[0;34m\u001b[0m\u001b[0m\n",
      "\u001b[0;31mKeyboardInterrupt\u001b[0m: "
     ]
    }
   ],
   "source": [
    "memout_example('good')"
   ]
  },
  {
   "cell_type": "code",
   "execution_count": 11,
   "metadata": {},
   "outputs": [
    {
     "data": {
      "text/plain": [
       "29"
      ]
     },
     "execution_count": 11,
     "metadata": {},
     "output_type": "execute_result"
    }
   ],
   "source": [
    "len('LOOP: (1) | PEAK STATE 3652.0')"
   ]
  },
  {
   "cell_type": "code",
   "execution_count": null,
   "metadata": {},
   "outputs": [],
   "source": []
  }
 ],
 "metadata": {
  "kernelspec": {
   "display_name": "Python 2",
   "language": "python",
   "name": "python2"
  },
  "language_info": {
   "codemirror_mode": {
    "name": "ipython",
    "version": 2
   },
   "file_extension": ".py",
   "mimetype": "text/x-python",
   "name": "python",
   "nbconvert_exporter": "python",
   "pygments_lexer": "ipython2",
   "version": "2.7.14"
  }
 },
 "nbformat": 4,
 "nbformat_minor": 2
}
