{
 "cells": [
  {
   "cell_type": "code",
   "execution_count": 1,
   "metadata": {},
   "outputs": [
    {
     "name": "stdout",
     "output_type": "stream",
     "text": [
      "\n"
     ]
    }
   ],
   "source": [
    "\"\"\" File to generate an LPIPS attack in the infinity norm \n",
    "(specifically to beat the Madry challenge)\n",
    "\n",
    "Steps to get this done:\n",
    "-1) Import a buncha things \n",
    " 0) Load up my dataset, normalizer, adversarially trained net \n",
    " 1) Build attack parameters\n",
    " 2) Check efficacy on small dataset \n",
    " 3) Build madry dataset \n",
    "\"\"\"\n",
    "print\n"
   ]
  },
  {
   "cell_type": "code",
   "execution_count": 2,
   "metadata": {},
   "outputs": [],
   "source": [
    "# Universal import block \n",
    "# Block to get the relative imports working \n",
    "import os\n",
    "import sys \n",
    "module_path = os.path.abspath(os.path.join('..'))\n",
    "if module_path not in sys.path:\n",
    "    sys.path.append(module_path)\n",
    "\n",
    "import torch\n",
    "import torch.nn as nn\n",
    "\n",
    "import config\n",
    "import prebuilt_loss_functions as plf\n",
    "import loss_functions as lf \n",
    "import utils.pytorch_utils as utils\n",
    "import utils.image_utils as img_utils\n",
    "import cifar10.cifar_loader as cifar_loader\n",
    "import cifar10.cifar_resnets as cifar_resnets\n",
    "import adversarial_attacks as aa\n",
    "import adversarial_training as advtrain\n",
    "import adversarial_evaluation as adveval\n",
    "import utils.checkpoints as checkpoints"
   ]
  },
  {
   "cell_type": "code",
   "execution_count": 3,
   "metadata": {},
   "outputs": [
    {
     "name": "stdout",
     "output_type": "stream",
     "text": [
      "Files already downloaded and verified\n"
     ]
    }
   ],
   "source": [
    "# Block 0: load dataset, normalizer, adversarially trained net \n",
    "val_loader = cifar_loader.load_cifar_data('val', normalize=False, batch_size=128, use_gpu=True)\n",
    "\n",
    "cifar_normer = utils.DifferentiableNormalize(mean=config.CIFAR10_MEANS,\n",
    "                                           std=config.CIFAR10_STDS)\n",
    "\n",
    "base_model = cifar_resnets.resnet32()\n",
    "adv_trained_net = checkpoints.load_state_dict_from_filename('half_trained_madry.th', base_model)\n",
    "eval_obj = adveval.AdversarialEvaluation(adv_trained_net, cifar_normer)\n",
    "\n"
   ]
  },
  {
   "cell_type": "code",
   "execution_count": 8,
   "metadata": {},
   "outputs": [
    {
     "name": "stdout",
     "output_type": "stream",
     "text": [
      "Starting minibatch 0...\n",
      "\t (mb: 0) evaluating 10.0...\n",
      "\t (mb: 0) evaluating 1.0...\n",
      "\t (mb: 0) evaluating 0.1...\n",
      "\t (mb: 0) evaluating 0.0...\n",
      "\t (mb: 0) evaluating 0.01...\n",
      "\t (mb: 0) evaluating 100.0...\n",
      "\t (mb: 0) evaluating 0.001...\n",
      "Starting minibatch 1...\n",
      "\t (mb: 1) evaluating 10.0...\n",
      "\t (mb: 1) evaluating 1.0...\n",
      "\t (mb: 1) evaluating 0.1...\n",
      "\t (mb: 1) evaluating 0.0...\n",
      "\t (mb: 1) evaluating 0.01...\n",
      "\t (mb: 1) evaluating 100.0...\n",
      "\t (mb: 1) evaluating 0.001...\n",
      "Starting minibatch 2...\n",
      "\t (mb: 2) evaluating 10.0...\n",
      "\t (mb: 2) evaluating 1.0...\n",
      "\t (mb: 2) evaluating 0.1...\n",
      "\t (mb: 2) evaluating 0.0...\n",
      "\t (mb: 2) evaluating 0.01...\n",
      "\t (mb: 2) evaluating 100.0...\n",
      "\t (mb: 2) evaluating 0.001...\n",
      "Starting minibatch 3...\n",
      "\t (mb: 3) evaluating 10.0...\n",
      "\t (mb: 3) evaluating 1.0...\n",
      "\t (mb: 3) evaluating 0.1...\n",
      "\t (mb: 3) evaluating 0.0...\n",
      "\t (mb: 3) evaluating 0.01...\n",
      "\t (mb: 3) evaluating 100.0...\n",
      "\t (mb: 3) evaluating 0.001...\n",
      "Starting minibatch 4...\n",
      "\t (mb: 4) evaluating 10.0...\n",
      "\t (mb: 4) evaluating 1.0...\n",
      "\t (mb: 4) evaluating 0.1...\n",
      "\t (mb: 4) evaluating 0.0...\n",
      "\t (mb: 4) evaluating 0.01...\n",
      "\t (mb: 4) evaluating 100.0...\n",
      "\t (mb: 4) evaluating 0.001...\n",
      "Starting minibatch 5...\n",
      "\t (mb: 5) evaluating 10.0...\n",
      "\t (mb: 5) evaluating 1.0...\n",
      "\t (mb: 5) evaluating 0.1...\n",
      "\t (mb: 5) evaluating 0.0...\n",
      "\t (mb: 5) evaluating 0.01...\n",
      "\t (mb: 5) evaluating 100.0...\n",
      "\t (mb: 5) evaluating 0.001...\n",
      "Starting minibatch 6...\n",
      "\t (mb: 6) evaluating 10.0...\n",
      "\t (mb: 6) evaluating 1.0...\n",
      "\t (mb: 6) evaluating 0.1...\n",
      "\t (mb: 6) evaluating 0.0...\n",
      "\t (mb: 6) evaluating 0.01...\n",
      "\t (mb: 6) evaluating 100.0...\n",
      "\t (mb: 6) evaluating 0.001...\n",
      "Starting minibatch 7...\n",
      "\t (mb: 7) evaluating 10.0...\n",
      "\t (mb: 7) evaluating 1.0...\n",
      "\t (mb: 7) evaluating 0.1...\n",
      "\t (mb: 7) evaluating 0.0...\n",
      "\t (mb: 7) evaluating 0.01...\n",
      "\t (mb: 7) evaluating 100.0...\n",
      "\t (mb: 7) evaluating 0.001...\n",
      "Starting minibatch 8...\n",
      "\t (mb: 8) evaluating 10.0...\n",
      "\t (mb: 8) evaluating 1.0...\n",
      "\t (mb: 8) evaluating 0.1...\n",
      "\t (mb: 8) evaluating 0.0...\n",
      "\t (mb: 8) evaluating 0.01...\n",
      "\t (mb: 8) evaluating 100.0...\n",
      "\t (mb: 8) evaluating 0.001...\n",
      "Starting minibatch 9...\n",
      "\t (mb: 9) evaluating 10.0...\n",
      "\t (mb: 9) evaluating 1.0...\n",
      "\t (mb: 9) evaluating 0.1...\n",
      "\t (mb: 9) evaluating 0.0...\n",
      "\t (mb: 9) evaluating 0.01...\n",
      "\t (mb: 9) evaluating 100.0...\n",
      "\t (mb: 9) evaluating 0.001...\n",
      "Starting minibatch 10...\n"
     ]
    },
    {
     "data": {
      "text/plain": [
       "{'0.0': 0.496875,\n",
       " '0.001': 0.49609375,\n",
       " '0.01': 0.49921875,\n",
       " '0.1': 0.5,\n",
       " '1.0': 0.553125,\n",
       " '10.0': 0.74140625,\n",
       " '100.0': 0.82265625,\n",
       " 'ground': 0.83359375}"
      ]
     },
     "execution_count": 8,
     "metadata": {},
     "output_type": "execute_result"
    }
   ],
   "source": [
    "# Block 1: build attack parameters \n",
    "ATTACK_KWARGS = {'l_inf_bound': 8.0/255.0, \n",
    "                 'step_size': 0.5/255.0,\n",
    "                 'num_iterations': 20, \n",
    "                 'random_init': True, \n",
    "                 'signed': True, \n",
    "                 'verbose': False}\n",
    "ATTACK_SPECIFIC_PARAMS = {'attack_kwargs': ATTACK_KWARGS}\n",
    "\n",
    "def build_attack_loss(classifier, normalizer, lpips_penalty):\n",
    "    \"\"\" Builds a regularized loss function for use in PGD \n",
    "    Takes in (perturbed_examples, labels) and returns \n",
    "    XEntropy(perturbed_examples, labels) + hyperparam * LPIPS(examples, perturbed_examples)\n",
    "    \"\"\"    \n",
    "    return plf.PerceptualXentropy(classifier, normalizer=normalizer, \n",
    "                                  regularization_constant=lpips_penalty, \n",
    "                                  use_gpu=True)\n",
    "\n",
    "attack_params = {}\n",
    "penalties = [0.0, 0.001, 0.01, 0.1, 1.0, 10.0, 100.0, 1000.0]\n",
    "for penalty in penalties:\n",
    "    loss_obj = build_attack_loss(adv_trained_net, cifar_normer, -penalty)\n",
    "    attack_obj = aa.LInfPGD(adv_trained_net, cifar_normer, loss_obj, use_gpu=True)\n",
    "    attack_param = advtrain.AdversarialAttackParameters(attack_obj, 1.0, \n",
    "                                                        attack_specific_params=ATTACK_SPECIFIC_PARAMS)\n",
    "    attack_params[str(penalty)] = attack_param \n",
    "\n",
    "    \n",
    "eval_obj.evaluate_ensemble(val_loader, attack_params, use_gpu=True, num_minibatches=10)"
   ]
  },
  {
   "cell_type": "code",
   "execution_count": null,
   "metadata": {},
   "outputs": [],
   "source": [
    "\n",
    "# Step 2: l2 norms \n",
    "# --- make l2 + xentropy loss \n",
    "class L2Xentropy(lf.RegularizedLoss):\n",
    "    \"\"\" Xentropy loss with a regularization based on l2 distance \"\"\"\n",
    "\n",
    "    def __init__(self, classifier, normalizer=None,\n",
    "                 regularization_constant=-100.0):\n",
    "        partial_xentropy = lf.PartialXentropy(classifier, normalizer=normalizer)\n",
    "        l2_reg = lf.L2Regularization(None)\n",
    "\n",
    "        super(L2Xentropy, self).__init__({'xentropy': partial_xentropy,\n",
    "                                                  'l2_reg': l2_reg},\n",
    "                                                  {'xentropy': 1.0,\n",
    "                                                   'l2_reg':\n",
    "                                                       regularization_constant})\n",
    "# --- /make l2 + xentropy loss\n",
    "l2_loss = L2Xentropy(adv_trained_net, normalizer=cifar_normer)\n",
    "l2_attack_obj = aa.LInfPGD(adv_trained_net, cifar_normer, l2_loss, use_gpu=True)\n",
    "l2_param = advtrain.AdversarialAttackParameters(l2_attack_obj, 1.0, attack_specific_params=ATTACK_SPECIFIC_PARAMS)\n",
    "output = eval_obj.evaluate_ensemble(val_loader, {'l2': l2_param}, use_gpu=True)\n",
    "\n"
   ]
  },
  {
   "cell_type": "code",
   "execution_count": null,
   "metadata": {},
   "outputs": [],
   "source": [
    "mini_ex, mini_label = next(iter(val_loader))"
   ]
  },
  {
   "cell_type": "code",
   "execution_count": null,
   "metadata": {},
   "outputs": [],
   "source": [
    "from torch.autograd import Variable\n",
    "# print l2_loss.losses['l2_reg'].fix_im.is_cuda\n",
    "vini_ex = Variable(mini_ex.cuda(), requires_grad=True)\n",
    "vini_label = Variable(mini_label.cuda(), requires_grad=False)\n",
    "\n",
    "loss_out = l2_loss.forward(vini_ex, vini_label)\n",
    "\n",
    "print loss_out\n"
   ]
  },
  {
   "cell_type": "code",
   "execution_count": null,
   "metadata": {},
   "outputs": [],
   "source": []
  }
 ],
 "metadata": {
  "kernelspec": {
   "display_name": "Python 2",
   "language": "python",
   "name": "python2"
  },
  "language_info": {
   "codemirror_mode": {
    "name": "ipython",
    "version": 2
   },
   "file_extension": ".py",
   "mimetype": "text/x-python",
   "name": "python",
   "nbconvert_exporter": "python",
   "pygments_lexer": "ipython2",
   "version": "2.7.10"
  }
 },
 "nbformat": 4,
 "nbformat_minor": 2
}
