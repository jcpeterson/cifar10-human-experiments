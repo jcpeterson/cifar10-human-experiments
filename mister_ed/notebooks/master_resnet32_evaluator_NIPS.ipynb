{
 "cells": [
  {
   "cell_type": "code",
   "execution_count": 3,
   "metadata": {},
   "outputs": [
    {
     "name": "stdout",
     "output_type": "stream",
     "text": [
      "\n"
     ]
    }
   ],
   "source": [
    "\"\"\" Main Script to evaluate a trained model \"\"\"\n",
    "print \n",
    "\n"
   ]
  },
  {
   "cell_type": "code",
   "execution_count": 3,
   "metadata": {},
   "outputs": [
    {
     "data": {
      "text/plain": [
       "'0.4.0a0+200fb22'"
      ]
     },
     "execution_count": 3,
     "metadata": {},
     "output_type": "execute_result"
    }
   ],
   "source": [
    "import torch\n",
    "torch.__version__"
   ]
  },
  {
   "cell_type": "code",
   "execution_count": 4,
   "metadata": {},
   "outputs": [],
   "source": [
    "import torch\n",
    "import torch.nn as nn\n",
    "import torch.nn.functional as F\n",
    "import torch.optim as optim\n",
    "import torchvision\n",
    "\n",
    "from torch.autograd import Variable\n",
    "import numpy as np\n",
    "\n",
    "\n",
    "# Universal import block \n",
    "# Block to get the relative imports working \n",
    "import os\n",
    "import sys \n",
    "module_path = os.path.abspath(os.path.join('..'))\n",
    "if module_path not in sys.path:\n",
    "    sys.path.append(module_path)\n",
    "import math\n",
    "import config\n",
    "import matplotlib.pyplot as plt \n",
    "import prebuilt_loss_functions as plf\n",
    "import loss_functions as lf \n",
    "import utils.pytorch_utils as utils\n",
    "import utils.image_utils as img_utils\n",
    "import cifar10.cifar_loader as cifar_loader\n",
    "import cifar10.cifar_resnets as cifar_resnets\n",
    "import adversarial_attacks as aa\n",
    "import adversarial_training as advtrain\n",
    "import adversarial_evaluation as adveval\n",
    "import utils.checkpoints as checkpoints\n",
    "import adversarial_perturbations as ap\n",
    "import adversarial_attacks_refactor as aar \n",
    "import spatial_transformers as st \n",
    "import prebuilt_attacks as pa"
   ]
  },
  {
   "cell_type": "code",
   "execution_count": 5,
   "metadata": {},
   "outputs": [
    {
     "name": "stdout",
     "output_type": "stream",
     "text": [
      "Loading fgsm.resnet32.000099.path.tar params into resnet32\n",
      "Loading fullSuite.resnet32.000022.path.tar params into resnet32\n",
      "Loading linf.resnet32.000099.path.tar params into resnet32\n",
      "Loading linfStadv.resnet32.000156.path.tar params into resnet32\n",
      "Loading resnetStadv.resnet32.000099.path.tar params into resnet32\n",
      "Loading RTDelta.resnet32.000099.path.tar params into resnet32\n",
      "Loading singleFlowDelta.resnet32.000099.path.tar params into resnet32\n"
     ]
    }
   ],
   "source": [
    "# LOAD THE PRETRAINED (DEFENDED) MODEL (NOTE: THIS HAS TO BE RESNET32)\n",
    "\n",
    "USE_GPU = torch.cuda.is_available()\n",
    "\n",
    "VALID_EXPERIMENTS = ['fgsm', 'fullSuite', 'linf', 'linfStadv', 'resnetStadv', 'RTDelta', \n",
    "                     'singleFlowDelta']\n",
    "\n",
    "EXPERIMENT_NAME = 'linfStadv'\n",
    "\n",
    "\n",
    "classifier_net, cifar_normer = cifar_loader.load_pretrained_cifar_resnet(flavor=32, use_gpu=USE_GPU, \n",
    "                                                                    return_normalizer=True) \n",
    "\n",
    "\n",
    "defended_state_dict_file = checkpoints.params_to_filename(EXPERIMENT_NAME, 'resnet32')[-1]\n",
    "print \"Loading %s params into resnet32\" % defended_state_dict_file \n",
    "classifier_net = checkpoints.load_state_dict_from_filename(defended_state_dict_file, classifier_net)"
   ]
  },
  {
   "cell_type": "code",
   "execution_count": 7,
   "metadata": {},
   "outputs": [
    {
     "name": "stdout",
     "output_type": "stream",
     "text": [
      "Files already downloaded and verified\n"
     ]
    }
   ],
   "source": [
    "# LOAD THE EVALUATION DATASET \n",
    "val_loader = cifar_loader.load_cifar_data('val', normalize=False, \n",
    "                                          batch_size=128, use_gpu=USE_GPU, \n",
    "                                         shuffle=False)\n"
   ]
  },
  {
   "cell_type": "code",
   "execution_count": 13,
   "metadata": {},
   "outputs": [],
   "source": [
    "##############################################################################\n",
    "#                                                                            #\n",
    "#             ATTACK BANK                                                    #\n",
    "#                                                                            #\n",
    "##############################################################################\n",
    "ATTACK_LIST = ['delta_fgsm', 'delta_pgd', 'stadv', 'rot_trans', \n",
    "               'delta_rot_trans', 'delta_stadv', 'delta_stadv_rot_trans']\n",
    "def build_attack_ensemble(model, normalizer, attack_list=None,\n",
    "                          delta_bound=pa.L_INF_BOUND, \n",
    "                          flow_bound=pa.FLOW_LINF, \n",
    "                          rot_bound=pa.ROT_LINF,\n",
    "                          trans_bound=pa.TRANS_LINF):\n",
    "    attack_list = attack_list or ATTACK_LIST\n",
    "    attack_ensemble = {} \n",
    "    \n",
    "    if 'delta_fgsm' in attack_list:\n",
    "        attack_ensemble['delta_fgsm'] = pa.build_delta_fgsm(model, \n",
    "                                                            normalizer, \n",
    "                                                            linf_bound=delta_bound,\n",
    "                                                            output='eval')\n",
    "    if 'delta_pgd' in attack_list:\n",
    "        attack_ensemble['delta_pgd'] = pa.build_delta_pgd(model, normalizer,\n",
    "                                                          linf_bound=delta_bound,\n",
    "                                                          output='eval')\n",
    "    if 'stadv' in attack_list: \n",
    "        attack_ensemble['stadv'] = pa.build_stadv_pgd(model, normalizer,\n",
    "                                                      linf_bound=flow_bound,\n",
    "                                                      output='eval')\n",
    "    \n",
    "    if 'rot_trans' in attack_list:\n",
    "        attack_ensemble['rot_trans'] = pa.build_rot_trans_pgd(\n",
    "                                          model, normalizer, \n",
    "                                          rot_bound=rot_bound, \n",
    "                                          trans_bound=trans_bound,\n",
    "                                          output='eval')\n",
    "        \n",
    "    if 'delta_rot_trans' in attack_list:\n",
    "        attack_ensemble['delta_rot_trans'] = pa.build_delta_rot_trans_pgd(\n",
    "                                              model, normalizer, \n",
    "                                              delta_bound=delta_bound, \n",
    "                                              trans_bound=trans_bound, \n",
    "                                              rot_bound=rot_bound,\n",
    "                                              output='eval')\n",
    "\n",
    "    if 'delta_stadv' in attack_list:\n",
    "        attack_ensemble['delta_stadv'] = pa.build_delta_stadv_pgd(\n",
    "                                            model, normalizer, \n",
    "                                            delta_bound=delta_bound, \n",
    "                                            flow_bound=flow_bound, \n",
    "                                            output='eval')\n",
    "    \n",
    "    if 'delta_stadv_rot_trans' in attack_list:\n",
    "        attack_ensemble['delta_stadv_rot_trans'] =\\\n",
    "            pa.build_delta_stadv_rot_trans_pgd(model, normalizer, \n",
    "                                               delta_bound=delta_bound, flow_bound=flow_bound, \n",
    "                                               rot_bound=rot_bound, trans_bound=trans_bound, \n",
    "                                               output='eval')\n",
    "    \n",
    "    return attack_ensemble\n",
    "    \n",
    "\n"
   ]
  },
  {
   "cell_type": "code",
   "execution_count": null,
   "metadata": {},
   "outputs": [],
   "source": [
    "def verify_eval(eval_obj, num=4):\n",
    "    examples, labels = next(iter(val_loader))\n",
    "    examples = examples.cuda()\n",
    "    labels = labels.cuda() \n",
    "    attack_out = eval_obj.attack_params.attack(examples, labels)\n",
    "    img_utils.show_images([attack_out[0][:num], examples[:num], \n",
    "                           attack_out[0][:num] - examples[:num] + 0.5])"
   ]
  },
  {
   "cell_type": "code",
   "execution_count": 24,
   "metadata": {},
   "outputs": [
    {
     "name": "stdout",
     "output_type": "stream",
     "text": [
      "Starting minibatch 0...\n",
      "\t (mb: 0) evaluating rot_trans...\n",
      "\t (mb: 0) evaluating ground...\n",
      "\t (mb: 0) evaluating delta_fgsm...\n",
      "\t (mb: 0) evaluating stadv...\n",
      "\t (mb: 0) evaluating delta_rot_trans...\n",
      "\t (mb: 0) evaluating delta_stadv_rot_trans...\n",
      "\t (mb: 0) evaluating delta_stadv...\n",
      "\t (mb: 0) evaluating delta_pgd...\n",
      "Starting minibatch 1...\n",
      "\t (mb: 1) evaluating rot_trans...\n",
      "\t (mb: 1) evaluating ground...\n",
      "\t (mb: 1) evaluating delta_fgsm...\n",
      "\t (mb: 1) evaluating stadv...\n",
      "\t (mb: 1) evaluating delta_rot_trans...\n",
      "\t (mb: 1) evaluating delta_stadv_rot_trans...\n",
      "\t (mb: 1) evaluating delta_stadv...\n",
      "\t (mb: 1) evaluating delta_pgd...\n",
      "Starting minibatch 2...\n",
      "\t (mb: 2) evaluating rot_trans...\n",
      "\t (mb: 2) evaluating ground...\n",
      "\t (mb: 2) evaluating delta_fgsm...\n",
      "\t (mb: 2) evaluating stadv...\n",
      "\t (mb: 2) evaluating delta_rot_trans...\n",
      "\t (mb: 2) evaluating delta_stadv_rot_trans...\n",
      "\t (mb: 2) evaluating delta_stadv...\n",
      "\t (mb: 2) evaluating delta_pgd...\n"
     ]
    }
   ],
   "source": [
    "attack_ensemble = build_attack_ensemble(classifier_net, cifar_normer)\n",
    "\n",
    "eval_obj = adveval.AdversarialEvaluation(classifier_net, cifar_normer, use_gpu=USE_GPU)\n",
    "eval_output = eval_obj.evaluate_ensemble(val_loader, attack_ensemble, verbose=True, num_minibatches=3)\n"
   ]
  },
  {
   "cell_type": "code",
   "execution_count": 35,
   "metadata": {
    "scrolled": true
   },
   "outputs": [
    {
     "name": "stdout",
     "output_type": "stream",
     "text": [
      "EXPERIMENT:  linfStadv\n",
      "------------------------------------------------\n",
      "Attack name               Efficacy (%)\n",
      "------------------------------------------------\n",
      "ground                    93.23\n",
      "------------------------------------------------\n",
      "rot_trans                 89.58\n",
      "------------------------------------------------\n",
      "delta_fgsm                21.35\n",
      "------------------------------------------------\n",
      "delta_pgd                 0.00\n",
      "------------------------------------------------\n",
      "delta_rot_trans           1.30\n",
      "------------------------------------------------\n",
      "stadv                     1.82\n",
      "------------------------------------------------\n",
      "delta_stadv               0.00\n",
      "------------------------------------------------\n",
      "delta_stadv_rot_trans     0.00\n",
      "------------------------------------------------\n"
     ]
    }
   ],
   "source": [
    "print \"EXPERIMENT: \", EXPERIMENT_NAME\n",
    "print '-' * 48\n",
    "print \"Attack name\", ' ' * (24 - len('attack name')), 'Efficacy (%)'\n",
    "print '-' * 48\n",
    "experiment_order = {'ground': 1, \n",
    "                    'rot_trans': 2, \n",
    "                    'delta_fgsm': 3, \n",
    "                    'delta_pgd': 4, \n",
    "                    'delta_rot_trans': 5,                    \n",
    "                    'stadv': 6, \n",
    "                    'delta_stadv': 7, \n",
    "                    'delta_stadv_rot_trans': 8}\n",
    "\n",
    "for k, v in sorted(eval_output.items(), key=lambda x: experiment_order[x[0]]):\n",
    "    pad = 24 - len(k) \n",
    "    print k, ' '*pad, '%02.2f' % (v.results['top1'].avg * 100  )\n",
    "    print '-' * 48"
   ]
  },
  {
   "cell_type": "code",
   "execution_count": null,
   "metadata": {},
   "outputs": [],
   "source": []
  },
  {
   "cell_type": "code",
   "execution_count": null,
   "metadata": {},
   "outputs": [],
   "source": []
  }
 ],
 "metadata": {
  "kernelspec": {
   "display_name": "Python 2",
   "language": "python",
   "name": "python2"
  },
  "language_info": {
   "codemirror_mode": {
    "name": "ipython",
    "version": 2
   },
   "file_extension": ".py",
   "mimetype": "text/x-python",
   "name": "python",
   "nbconvert_exporter": "python",
   "pygments_lexer": "ipython2",
   "version": "2.7.15"
  }
 },
 "nbformat": 4,
 "nbformat_minor": 2
}
