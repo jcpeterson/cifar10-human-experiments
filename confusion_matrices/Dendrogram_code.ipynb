{
 "cells": [
  {
   "cell_type": "code",
   "execution_count": 1,
   "metadata": {
    "collapsed": true
   },
   "outputs": [],
   "source": [
    "%matplotlib inline\n",
    "import os\n",
    "import numpy as np\n",
    "import matplotlib\n",
    "import matplotlib.pyplot as plt\n",
    "import pickle\n",
    "import scipy\n",
    "import scipy.cluster.hierarchy as sch"
   ]
  },
  {
   "cell_type": "code",
   "execution_count": 2,
   "metadata": {},
   "outputs": [
    {
     "name": "stdout",
     "output_type": "stream",
     "text": [
      "['vgg_15_BN_64.npz', 'resnet_preact_bottleneck_164.npz', 'wrn_28_10_cutout16.npz', 'resnext_29_8x64d.npz', 'shake_shake_26_2x64d_SSI_cutout16.npz', 'densenet_BC_100_12.npz', 'resnet_basic_110.npz', 'pyramidnet_basic_110_270.npz']\n"
     ]
    }
   ],
   "source": [
    "w_dir = os.getcwd()\n",
    "files = [_ for _ in os.listdir() if 'npz' in _]\n",
    "\n",
    "print(files)"
   ]
  },
  {
   "cell_type": "code",
   "execution_count": 3,
   "metadata": {},
   "outputs": [
    {
     "name": "stdout",
     "output_type": "stream",
     "text": [
      "['vgg_15_BN_64.npz', 'resnet_preact_bottleneck_164.npz', 'wrn_28_10_cutout16.npz', 'resnext_29_8x64d.npz', 'shake_shake_26_2x64d_SSI_cutout16.npz', 'densenet_BC_100_12.npz', 'resnet_basic_110.npz', 'pyramidnet_basic_110_270.npz']\n",
      "[[  2.98748141e-13   2.13174495e-11   6.10703545e-12 ...,   2.36353623e-12\n",
      "    9.24824800e-12   2.64940370e-12]\n",
      " [  3.90359467e-10   1.03469466e-09   1.55686025e-13 ...,   2.34652098e-12\n",
      "    1.25997094e-03   9.46878860e-12]\n",
      " [  3.81057599e-12   2.34644770e-09   1.12028106e-12 ...,   7.38261394e-13\n",
      "    1.84892517e-04   8.07630421e-11]\n",
      " ..., \n",
      " [  3.27169966e-14   3.89193261e-11   4.57047854e-12 ...,   2.45741812e-11\n",
      "    3.25903475e-12   2.19365693e-12]\n",
      " [  5.54495523e-13   4.39471733e-05   8.39086938e-13 ...,   2.27185480e-12\n",
      "    7.76775311e-11   1.04294837e-11]\n",
      " [  2.89294413e-13   7.00394950e-11   3.78942841e-12 ...,   4.80552262e-05\n",
      "    1.15754576e-11   1.00482999e-11]]\n"
     ]
    }
   ],
   "source": [
    "# wrn_pretrain\n",
    "\n",
    "#wrn_control lr 0.001 seed 0 epoch 5\n",
    "\n",
    "#wrn_optimal: lr 0.001 seed 0 epoch 34\n",
    "\n",
    "\n",
    "ground_labels = np.int_(np.load('test_set_cifar_labels.npy'))\n",
    "categories = ['plane', 'automobile', 'bird', 'cat', 'deer', 'dog', 'frog', 'horse', 'ship', 'truck']\n",
    "print(files)\n",
    "\n",
    "def file_loader(path):\n",
    "    a = np.load(path)\n",
    "    return a['labels'], a['outputs'], a['accuracy']\n",
    "\n",
    "def softmax(x):\n",
    "    \"\"\"Compute softmax values for each sets of scores in x.\"\"\"\n",
    "    e_x = np.exp(x - np.max(x))\n",
    "    return e_x / e_x.sum(axis=0)\n",
    "\n",
    "softmaxes = softmax(file_loader(files[0])[1])\n",
    "print(softmaxes)"
   ]
  },
  {
   "cell_type": "code",
   "execution_count": 8,
   "metadata": {},
   "outputs": [
    {
     "data": {
      "image/png": "[encoded data removed]",
      "text/plain": [
       "<matplotlib.figure.Figure at 0x7f0509a72d68>"
      ]
     },
     "metadata": {},
     "output_type": "display_data"
    }
   ],
   "source": [
    "plt_size = (14,10)\n",
    "\n",
    "fig = plt.figure(figsize=plt_size)\n",
    "method= 'centroid'\n",
    "# thresh = 2.5\n",
    "\n",
    "ext = '.png'#.jpg' # '.png'\n",
    "\n",
    "plt.title('Unfiltered Softmax')\n",
    "Y = sch.linkage(softmaxes[:30], method=method)\n",
    "Z2 = sch.dendrogram(Y)#, color_threshold=1.85)#,no_labels=True)\n",
    "#locs, labels = plt.xticks()\n",
    "#label_names = np.array([int(x.get_text()) for x in labels])\n",
    "#new_labels = ['Bird' if inv_mappings[x+1] in set(image_nums_b) \n",
    "#              else 'Plane' for x in label_names] # add 1 to index\n",
    "#axes.set_xticklabels(new_labels)\n",
    "plt.setp(labels, rotation=90)\n",
    "plt.show()"
   ]
  },
  {
   "cell_type": "code",
   "execution_count": 4,
   "metadata": {},
   "outputs": [
    {
     "name": "stdout",
     "output_type": "stream",
     "text": [
      "(10000, 10) [[ 0.  1.  1. 48.  0.  1.  0.  0.  0.  0.]\n",
      " [ 0.  0.  1.  0.  0.  0.  0.  0. 50.  0.]\n",
      " [ 0.  0.  0.  0.  0.  0.  0.  0. 52.  0.]\n",
      " [38.  0.  8.  0.  1.  0.  1.  0.  2.  1.]\n",
      " [ 0.  0.  1.  0.  0.  0. 50.  0.  0.  0.]]\n",
      "(10000,) [3 8 8 0 6]\n"
     ]
    }
   ],
   "source": [
    "# make human matrices\n"
   ]
  }
 ],
 "metadata": {
  "kernelspec": {
   "display_name": "Python 3",
   "language": "python",
   "name": "python3"
  },
  "language_info": {
   "codemirror_mode": {
    "name": "ipython",
    "version": 3
   },
   "file_extension": ".py",
   "mimetype": "text/x-python",
   "name": "python",
   "nbconvert_exporter": "python",
   "pygments_lexer": "ipython3",
   "version": "3.6.3"
  }
 },
 "nbformat": 4,
 "nbformat_minor": 2
}
