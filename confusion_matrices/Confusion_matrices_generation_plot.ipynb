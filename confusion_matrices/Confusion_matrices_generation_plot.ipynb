{
 "cells": [
  {
   "cell_type": "code",
   "execution_count": 1,
   "metadata": {},
   "outputs": [],
   "source": [
    "%matplotlib inline\n",
    "import os\n",
    "import numpy as np\n",
    "import matplotlib\n",
    "import matplotlib.pyplot as plt\n",
    "import pickle"
   ]
  },
  {
   "cell_type": "code",
   "execution_count": 2,
   "metadata": {},
   "outputs": [
    {
     "name": "stdout",
     "output_type": "stream",
     "text": [
      "['densenet_BC_100_12.npz', 'resnext_29_8x64d.npz', 'shake_shake_26_2x64d_SSI_cutout16.npz', 'pyramidnet_basic_110_270.npz', 'vgg_15_BN_64.npz', 'resnet_basic_110.npz', 'resnet_preact_bottleneck_164.npz', 'wrn_28_10_cutout16.npz']\n"
     ]
    }
   ],
   "source": [
    "w_dir = os.getcwd()\n",
    "files = [_ for _ in os.listdir() if 'npz' in _]\n",
    "\n",
    "# to_remove = ['.ipynb_checkpoints','test_set_master_guess_array.npy',\n",
    "#              'Sparsity_summary_confusion_matrices.ipynb',\n",
    "#              'test_set_cifar_labels.npy']\n",
    "# print('')\n",
    "# for removable in to_remove:\n",
    "#     try:\n",
    "#         files.remove(removable)\n",
    "#     except:\n",
    "#         print(removable + ' not found...')\n",
    "\n",
    "print(files)"
   ]
  },
  {
   "cell_type": "code",
   "execution_count": 3,
   "metadata": {},
   "outputs": [
    {
     "name": "stdout",
     "output_type": "stream",
     "text": [
      "['densenet_BC_100_12.npz', 'resnext_29_8x64d.npz', 'shake_shake_26_2x64d_SSI_cutout16.npz', 'pyramidnet_basic_110_270.npz', 'vgg_15_BN_64.npz', 'resnet_basic_110.npz', 'resnet_preact_bottleneck_164.npz', 'wrn_28_10_cutout16.npz']\n"
     ]
    }
   ],
   "source": [
    "ground_labels = np.int_(np.load('test_set_cifar_labels.npy'))\n",
    "master_guess_array = np.load('test_set_master_guess_array.npy')\n",
    "categories = ['plane', 'automobile', 'bird', 'cat', 'deer', 'dog', 'frog', 'horse', 'ship', 'truck']\n",
    "print(files)\n",
    "\n",
    "def file_loader(path):\n",
    "    a = np.load(path)\n",
    "    return a['labels'], a['outputs'], a['accuracy']\n",
    "\n",
    "def hist_guesess(guess_array, num_c=10):\n",
    "    out = np.empty((len(guess_array), num_c))\n",
    "    \n",
    "    for i, guess_list in enumerate(guess_array):\n",
    "        out[i] = np.bincount(guess_list, minlength=num_c)\n",
    "        \n",
    "    return out\n",
    "\n",
    "def top_1(hist_array):\n",
    "    \"\"\"Can be hist of softmax\"\"\"\n",
    "    return np.argmax(hist_array, axis=1)"
   ]
  },
  {
   "cell_type": "code",
   "execution_count": 4,
   "metadata": {},
   "outputs": [
    {
     "name": "stdout",
     "output_type": "stream",
     "text": [
      "(10000, 10) [[ 0.  1.  1. 48.  0.  1.  0.  0.  0.  0.]\n",
      " [ 0.  0.  1.  0.  0.  0.  0.  0. 50.  0.]\n",
      " [ 0.  0.  0.  0.  0.  0.  0.  0. 52.  0.]\n",
      " [38.  0.  8.  0.  1.  0.  1.  0.  2.  1.]\n",
      " [ 0.  0.  1.  0.  0.  0. 50.  0.  0.  0.]]\n",
      "(10000,) [3 8 8 0 6]\n"
     ]
    }
   ],
   "source": [
    "# make human matrices\n",
    "\n",
    "guess_hist = hist_guesess(master_guess_array)\n",
    "print(guess_hist.shape, guess_hist[:5])\n",
    "\n",
    "# normalizes, so each row sums to one and mirror softmax\n",
    "guess_hist_softmax = guess_hist/np.sum(guess_hist, axis=1)[:, np.newaxis] \n",
    "\n",
    "guess_top_1 = top_1(guess_hist)\n",
    "print(guess_top_1.shape, guess_top_1[:5])"
   ]
  },
  {
   "cell_type": "code",
   "execution_count": 5,
   "metadata": {},
   "outputs": [],
   "source": [
    "# confusion matrix code\n",
    "def convert_gt_1d(gt_1d, nc=False):\n",
    "    \"\"\"Creates matrix of size len(gt_1d)=samples, num_classes\"\"\"\n",
    "    print(gt_1d.shape)\n",
    "    \n",
    "    ns = gt_1d.shape[0]\n",
    "    print('num samples: ', np.int(ns))\n",
    "    \n",
    "    if not nc:\n",
    "        nc = np.int(len(set(gt_1d.flatten())))\n",
    "        print('num classes: ', nc)\n",
    "        \n",
    "    new_mat = np.zeros((ns, nc))\n",
    "    \n",
    "    rows = np.arange(gt_1d.shape[0])\n",
    "        \n",
    "    new_mat[rows, gt_1d] +=1\n",
    "    \n",
    "    return new_mat\n",
    "    \n",
    "\n",
    "def conf_matrix(one_hot_array, ground_truths):\n",
    "    \"\"\"Expects an array to be samples by classes\"\"\"\n",
    "    try:\n",
    "        nc = one_hot_array.shape[1]\n",
    "    except:\n",
    "        one_hot_array = convert_gt_1d(one_hot_array)\n",
    "        nc = one_hot_array.shape[1]\n",
    "        \n",
    "    cm = np.empty((nc, nc))\n",
    "    for cat in np.arange(nc):\n",
    "        cm[cat] = np.mean(one_hot_array[np.where(ground_truths==cat)[0]], axis = 0)\n",
    "    \n",
    "    np.fill_diagonal(cm, 0)\n",
    "    return cm"
   ]
  },
  {
   "cell_type": "code",
   "execution_count": 6,
   "metadata": {},
   "outputs": [
    {
     "name": "stdout",
     "output_type": "stream",
     "text": [
      "(10000,)\n",
      "num samples:  10000\n",
      "num classes:  10\n",
      "densenet_BC_100_12.npz\n",
      "(10000,)\n",
      "num samples:  10000\n",
      "num classes:  10\n",
      "resnext_29_8x64d.npz\n",
      "(10000,)\n",
      "num samples:  10000\n",
      "num classes:  10\n",
      "shake_shake_26_2x64d_SSI_cutout16.npz\n",
      "(10000,)\n",
      "num samples:  10000\n",
      "num classes:  10\n",
      "pyramidnet_basic_110_270.npz\n",
      "(10000,)\n",
      "num samples:  10000\n",
      "num classes:  10\n",
      "vgg_15_BN_64.npz\n",
      "(10000,)\n",
      "num samples:  10000\n",
      "num classes:  10\n",
      "resnet_basic_110.npz\n",
      "(10000,)\n",
      "num samples:  10000\n",
      "num classes:  10\n",
      "resnet_preact_bottleneck_164.npz\n",
      "(10000,)\n",
      "num samples:  10000\n",
      "num classes:  10\n",
      "wrn_28_10_cutout16.npz\n",
      "(10000,)\n",
      "num samples:  10000\n",
      "num classes:  10\n"
     ]
    }
   ],
   "source": [
    "def dict_saver(model, di, s_dir):\n",
    "    with open(s_dir + '/' + model + '_all_cms.p', 'wb') as pfile:\n",
    "        pickle.dump(di, pfile)\n",
    "\n",
    "s_dir = os.path.join(w_dir, 'matrices')\n",
    "#print(s_dir)\n",
    "if not os.path.exists(s_dir):\n",
    "    os.mkdir(s_dir)\n",
    "    \n",
    "temp_d = {}\n",
    "temp_d['cm_raw'] = conf_matrix(guess_hist, ground_labels)\n",
    "temp_d['softmax'] = conf_matrix(guess_hist_softmax, ground_labels)\n",
    "temp_d['gt'] = conf_matrix(guess_top_1, ground_labels)\n",
    "\n",
    "dict_saver('Human', temp_d, s_dir)\n",
    "\n",
    "def softmax(x):\n",
    "    \"\"\"Compute softmax values for each sets of scores in x.\"\"\"\n",
    "    e_x = np.exp(x - np.max(x))\n",
    "    return e_x / e_x.sum(axis=0)\n",
    "\n",
    "for model_file in files:\n",
    "    print(model_file)\n",
    "    t_labs, t_outs, t_acc = file_loader(model_file)\n",
    "    temp_d = {}\n",
    "    for t_i in range(t_outs.shape[0]): t_outs[t_i] = softmax(t_outs[t_i])\n",
    "    temp_d['softmax'] = conf_matrix(t_outs, ground_labels)\n",
    "    temp_d['gt'] = conf_matrix(top_1(t_outs), ground_labels)\n",
    "    dict_saver(model_file.split('.')[0], temp_d, s_dir)"
   ]
  },
  {
   "cell_type": "code",
   "execution_count": 7,
   "metadata": {},
   "outputs": [],
   "source": [
    "def cm_fig(cm, model, labels, s_dir=False):\n",
    "    fig, ax = plt.subplots(figsize = (10, 10))\n",
    "    ax.set_title('Confusion matrix: {0}'.format(model), fontsize = 20)\n",
    "    ax.set_xlabel('Chosen', fontsize = 15)\n",
    "    ax.set_ylabel('Ground truth', fontsize = 15)\n",
    "\n",
    "    cax = ax.matshow(cm, cmap='Reds', interpolation = 'nearest')\n",
    "    cbar = fig.colorbar(cax)\n",
    "    #print(ax.get_xticks())\n",
    "    ax.xaxis.set_ticks(np.arange(10))\n",
    "    #print(ax.get_xticks())\n",
    "    ax.yaxis.set_ticks(np.arange(10))\n",
    "\n",
    "    ax.set_xticklabels(labels)\n",
    "\n",
    "    ax.set_yticklabels(labels)\n",
    "    \n",
    "    if s_dir:\n",
    "        plt.savefig(s_dir + '/' + model + '_confusion_matrix.png', bbox_inches=\"tight\")"
   ]
  },
  {
   "cell_type": "code",
   "execution_count": 8,
   "metadata": {},
   "outputs": [],
   "source": [
    "def dict_loader(path):\n",
    "    with open(path, 'rb') as pfile:\n",
    "        return pickle.load(pfile)\n",
    "\n",
    "cm_files = os.listdir(w_dir + '/matrices')\n",
    "\n",
    "# for file in cm_files:\n",
    "#     di = dict_loader(w_dir + '/matrices/' + file)\n",
    "#     model_name = file.split('_a')[0]\n",
    "#     cm_fig(di['softmax'], model_name, w_dir + '/figures/' + model_name)\n",
    "#     cm_fig(di['gt'], model_name + '_gt', w_dir + '/figures/' + model_name + '_gt')"
   ]
  },
  {
   "cell_type": "code",
   "execution_count": 18,
   "metadata": {
    "scrolled": true
   },
   "outputs": [
    {
     "data": {
      "image/png": "[encoded data removed]",
      "text/plain": [
       "<Figure size 1296x288 with 18 Axes>"
      ]
     },
     "metadata": {},
     "output_type": "display_data"
    }
   ],
   "source": [
    "from matplotlib import rcParams\n",
    "rcParams['font.family'] = 'serif'\n",
    "\n",
    "cm_files = os.listdir(w_dir + '/matrices')\n",
    "\n",
    "f, axes = plt.subplots(2, 9, figsize=(18,4))#, sharey=True)\n",
    "cm_files.remove('Human_all_cms.p')\n",
    "cm_files.insert(0, 'Human_all_cms.p')\n",
    "\n",
    "labels = [c[0].upper() for c in categories]\n",
    "\n",
    "titles = ['human', 'resnet_preact', \n",
    "          'shake_shake', 'vgg', \n",
    "          'resnet', 'wide_resnet', \n",
    "          'resnext', 'densenet', \n",
    "          'pyramidnet']\n",
    "\n",
    "for i, file in enumerate(cm_files):\n",
    "\n",
    "    di = dict_loader(w_dir + '/matrices/' + file)\n",
    "    if 'Human' in file: \n",
    "        human_di = di.copy()\n",
    "    model_name = file.split('_a')[0]\n",
    "    \n",
    "    axes[0][i].set_title(titles[i], fontsize=13) #file[:-10], fontsize=8) # titles[i]\n",
    "    axes[0][i].matshow(di['softmax'], vmin=0, vmax=0.08046593517065048,\n",
    "                       cmap='Reds', interpolation = 'nearest')\n",
    "    axes[0][i].axis('off')\n",
    "#     axes[0][i].xaxis.set_ticks(np.arange(10)-0.5)\n",
    "#     axes[0][i].yaxis.set_ticks(np.arange(10)-0.5)\n",
    "#     axes[0][i].set_xticklabels(['']+labels)\n",
    "#     axes[0][i].set_yticklabels(['']+labels)\n",
    "#     axes[0][i].tick_params(axis=u'both', which=u'both', length=0)\n",
    "#     for spine_key in axes[0][i].spines.keys():\n",
    "#         axes[0][i].spines[spine_key].set_visible(False)\n",
    "\n",
    "    axes[1][i].matshow(np.abs(human_di['softmax']-di['softmax']), vmin=0, vmax=0.08046593517065048,\n",
    "                       cmap='Reds', interpolation = 'nearest')\n",
    "    axes[1][i].axis('off')\n",
    "#     axes[1][i].xaxis.set_ticks(np.arange(10)-0.5)\n",
    "#     axes[1][i].yaxis.set_ticks(np.arange(10)-0.5)\n",
    "#     axes[1][i].set_xticklabels(['']+labels)\n",
    "#     axes[1][i].set_yticklabels(['']+labels)\n",
    "#     axes[1][i].tick_params(axis=u'both', which=u'both',length=0)\n",
    "#     for spine_key in axes[0][i].spines.keys():\n",
    "#         axes[1][i].spines[spine_key].set_visible(False)"
   ]
  }
 ],
 "metadata": {
  "kernelspec": {
   "display_name": "Python 3",
   "language": "python",
   "name": "python3"
  },
  "language_info": {
   "codemirror_mode": {
    "name": "ipython",
    "version": 3
   },
   "file_extension": ".py",
   "mimetype": "text/x-python",
   "name": "python",
   "nbconvert_exporter": "python",
   "pygments_lexer": "ipython3",
   "version": "3.6.6"
  }
 },
 "nbformat": 4,
 "nbformat_minor": 2
}
